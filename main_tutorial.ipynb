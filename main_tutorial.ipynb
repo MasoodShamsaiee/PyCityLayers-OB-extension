{
 "cells": [
  {
   "cell_type": "markdown",
   "id": "8f6f59d2",
   "metadata": {},
   "source": [
    "# Quick Start - pyCityLayers"
   ]
  },
  {
   "cell_type": "markdown",
   "id": "7fe37dc9",
   "metadata": {},
   "source": [
    "# Access to Internal (CERC) Data"
   ]
  },
  {
   "cell_type": "markdown",
   "id": "a5009910",
   "metadata": {},
   "source": [
    "#### --------------------------------------------------------------------------------------------------------------------------------------------------------"
   ]
  },
  {
   "cell_type": "code",
   "execution_count": 1,
   "id": "66d5edbb",
   "metadata": {},
   "outputs": [],
   "source": [
    "import numpy as np\n",
    "import json\n",
    "from pprint import pprint\n",
    "import fiona\n",
    "from shapely.geometry import Polygon, Point, MultiPolygon\n",
    "from pycitylayers.client import Client\n",
    "from pycitylayers.utils import PointGQL, PolygonGQL\n",
    "import pycitylayers"
   ]
  },
  {
   "cell_type": "code",
   "execution_count": null,
   "id": "3c3007dc",
   "metadata": {},
   "outputs": [],
   "source": []
  },
  {
   "cell_type": "markdown",
   "id": "e9249045",
   "metadata": {},
   "source": [
    "### Create an instance of connection to database"
   ]
  },
  {
   "cell_type": "code",
   "execution_count": 2,
   "id": "96421430",
   "metadata": {},
   "outputs": [
    {
     "name": "stdout",
     "output_type": "stream",
     "text": [
      "Fetching Metadata. Please Wait ...\n"
     ]
    }
   ],
   "source": [
    "client = Client().create(source='cerc')"
   ]
  },
  {
   "cell_type": "markdown",
   "id": "bed209f6",
   "metadata": {},
   "source": [
    "### Querying for all collections available in the database"
   ]
  },
  {
   "cell_type": "code",
   "execution_count": 3,
   "id": "7320c7be",
   "metadata": {},
   "outputs": [
    {
     "name": "stdout",
     "output_type": "stream",
     "text": [
      "---------- Data Collection ----------\n",
      "Source:\t\tcerc \n",
      "Datasets Count:\t16\n"
     ]
    }
   ],
   "source": [
    "coll = client.collection\n",
    "pprint(coll)"
   ]
  },
  {
   "cell_type": "markdown",
   "id": "9f25f783",
   "metadata": {},
   "source": [
    "### Show all datasets in the collection"
   ]
  },
  {
   "cell_type": "code",
   "execution_count": 4,
   "id": "ffa96698",
   "metadata": {},
   "outputs": [
    {
     "data": {
      "text/plain": [
       "[---------- Dataset ----------\n",
       " Name:\t\tagents \n",
       " Tables Count:\t1 ,\n",
       " ---------- Dataset ----------\n",
       " Name:\t\tagents_by_pk \n",
       " Tables Count:\t1 ,\n",
       " ---------- Dataset ----------\n",
       " Name:\t\tbixi_stations \n",
       " Tables Count:\t1 ,\n",
       " ---------- Dataset ----------\n",
       " Name:\t\tbixi_trips \n",
       " Tables Count:\t1 ,\n",
       " ---------- Dataset ----------\n",
       " Name:\t\tbuilding_footprint_ms \n",
       " Tables Count:\t1 ,\n",
       " ---------- Dataset ----------\n",
       " Name:\t\tbuilding_footprint_mtl \n",
       " Tables Count:\t1 ,\n",
       " ---------- Dataset ----------\n",
       " Name:\t\tbuilding_lots \n",
       " Tables Count:\t1 ,\n",
       " ---------- Dataset ----------\n",
       " Name:\t\tcensus_divisions \n",
       " Tables Count:\t1 ,\n",
       " ---------- Dataset ----------\n",
       " Name:\t\tcensus_subdivisions \n",
       " Tables Count:\t1 ,\n",
       " ---------- Dataset ----------\n",
       " Name:\t\tcensus_tracts \n",
       " Tables Count:\t1 ,\n",
       " ---------- Dataset ----------\n",
       " Name:\t\tdissemination_areas \n",
       " Tables Count:\t1 ,\n",
       " ---------- Dataset ----------\n",
       " Name:\t\tdissemination_blocks \n",
       " Tables Count:\t1 ,\n",
       " ---------- Dataset ----------\n",
       " Name:\t\tev_stations \n",
       " Tables Count:\t1 ,\n",
       " ---------- Dataset ----------\n",
       " Name:\t\tgas_stations \n",
       " Tables Count:\t1 ,\n",
       " ---------- Dataset ----------\n",
       " Name:\t\tpower_grid \n",
       " Tables Count:\t1 ,\n",
       " ---------- Dataset ----------\n",
       " Name:\t\ttrees_public \n",
       " Tables Count:\t1 ]"
      ]
     },
     "execution_count": 4,
     "metadata": {},
     "output_type": "execute_result"
    }
   ],
   "source": [
    "coll.datasets"
   ]
  },
  {
   "cell_type": "code",
   "execution_count": 5,
   "id": "f38672af",
   "metadata": {},
   "outputs": [
    {
     "data": {
      "text/plain": [
       "---------- Dataset ----------\n",
       "Name:\t\tbixi_stations \n",
       "Tables Count:\t1 "
      ]
     },
     "execution_count": 5,
     "metadata": {},
     "output_type": "execute_result"
    }
   ],
   "source": [
    "ds = coll[2]\n",
    "ds"
   ]
  },
  {
   "cell_type": "markdown",
   "id": "7efd8da2",
   "metadata": {},
   "source": [
    "### Show all tables in a dataset"
   ]
  },
  {
   "cell_type": "code",
   "execution_count": 6,
   "id": "748ba67c",
   "metadata": {},
   "outputs": [
    {
     "data": {
      "text/plain": [
       "[---------- Table:0 ----------\n",
       " Name:\t\tbixi_stations \n",
       " Description:\t \n",
       " Format:\t\tCSV ]"
      ]
     },
     "execution_count": 6,
     "metadata": {},
     "output_type": "execute_result"
    }
   ],
   "source": [
    "ds.tables"
   ]
  },
  {
   "cell_type": "markdown",
   "id": "065d3c07",
   "metadata": {},
   "source": [
    "### Show all columns in a table"
   ]
  },
  {
   "cell_type": "code",
   "execution_count": 17,
   "id": "35f5636f",
   "metadata": {},
   "outputs": [
    {
     "name": "stdout",
     "output_type": "stream",
     "text": [
      "['borough_id',\n",
      " 'building_number',\n",
      " 'built_area',\n",
      " 'dwelling_number',\n",
      " 'firstletter_apt',\n",
      " 'geom',\n",
      " 'index',\n",
      " 'land_area',\n",
      " 'landuse_code',\n",
      " 'landuse_text',\n",
      " 'lastletter_apt',\n",
      " 'max_floors',\n",
      " 'municipality_code',\n",
      " 'nad83_registration',\n",
      " 'street_name',\n",
      " 'street_number',\n",
      " 'uid',\n",
      " 'unit_category',\n",
      " 'unit_number',\n",
      " 'year_built']\n"
     ]
    }
   ],
   "source": [
    "tb = ds[0]\n",
    "columns = tb.columns\n",
    "pprint(columns)"
   ]
  },
  {
   "cell_type": "code",
   "execution_count": 18,
   "id": "891eebf7",
   "metadata": {},
   "outputs": [
    {
     "name": "stdout",
     "output_type": "stream",
     "text": [
      "SELECT \"borough_id\", \"built_area\" FROM \"None\" LIMIT 6 \n"
     ]
    },
    {
     "ename": "AttributeError",
     "evalue": "'GQLTable' object has no attribute 'query_sql'",
     "output_type": "error",
     "traceback": [
      "\u001b[1;31m---------------------------------------------------------------------------\u001b[0m",
      "\u001b[1;31mAttributeError\u001b[0m                            Traceback (most recent call last)",
      "Cell \u001b[1;32mIn[18], line 4\u001b[0m\n\u001b[0;32m      1\u001b[0m sql_string \u001b[39m=\u001b[39m \u001b[39mf\u001b[39m\u001b[39m'\u001b[39m\u001b[39mSELECT \u001b[39m\u001b[39m\"\u001b[39m\u001b[39mborough_id\u001b[39m\u001b[39m\"\u001b[39m\u001b[39m, \u001b[39m\u001b[39m\"\u001b[39m\u001b[39mbuilt_area\u001b[39m\u001b[39m\"\u001b[39m\u001b[39m FROM \u001b[39m\u001b[39m\"\u001b[39m\u001b[39m{\u001b[39;00mtb\u001b[39m.\u001b[39m_id\u001b[39m}\u001b[39;00m\u001b[39m\"\u001b[39m\u001b[39m LIMIT 6 \u001b[39m\u001b[39m'\u001b[39m\n\u001b[0;32m      2\u001b[0m \u001b[39mprint\u001b[39m(sql_string)\n\u001b[1;32m----> 4\u001b[0m data \u001b[39m=\u001b[39m tb\u001b[39m.\u001b[39;49mquery_sql(sql_string)\n\u001b[0;32m      6\u001b[0m data\n",
      "\u001b[1;31mAttributeError\u001b[0m: 'GQLTable' object has no attribute 'query_sql'"
     ]
    }
   ],
   "source": [
    "sql_string = f'SELECT \"borough_id\", \"built_area\" FROM \"{tb._id}\" LIMIT 6 '\n",
    "print(sql_string)\n",
    "\n",
    "data = tb.query_sql(sql_string)\n",
    "\n",
    "data"
   ]
  },
  {
   "cell_type": "code",
   "execution_count": null,
   "id": "5a5e5cd5",
   "metadata": {},
   "outputs": [],
   "source": []
  },
  {
   "cell_type": "markdown",
   "id": "6ecaf284",
   "metadata": {},
   "source": [
    "### Get N rows from a table given a list of columns "
   ]
  },
  {
   "cell_type": "code",
   "execution_count": 8,
   "id": "fbd35f7d",
   "metadata": {},
   "outputs": [
    {
     "name": "stdout",
     "output_type": "stream",
     "text": [
      "Table Size:  (500, 5)\n"
     ]
    },
    {
     "data": {
      "text/html": [
       "<div>\n",
       "<style scoped>\n",
       "    .dataframe tbody tr th:only-of-type {\n",
       "        vertical-align: middle;\n",
       "    }\n",
       "\n",
       "    .dataframe tbody tr th {\n",
       "        vertical-align: top;\n",
       "    }\n",
       "\n",
       "    .dataframe thead th {\n",
       "        text-align: right;\n",
       "    }\n",
       "</style>\n",
       "<table border=\"1\" class=\"dataframe\">\n",
       "  <thead>\n",
       "    <tr style=\"text-align: right;\">\n",
       "      <th></th>\n",
       "      <th>code</th>\n",
       "      <th>geom</th>\n",
       "      <th>index</th>\n",
       "      <th>name</th>\n",
       "      <th>year</th>\n",
       "    </tr>\n",
       "  </thead>\n",
       "  <tbody>\n",
       "    <tr>\n",
       "      <th>0</th>\n",
       "      <td>6164</td>\n",
       "      <td>{'type': 'Point', 'crs': {'type': 'name', 'pro...</td>\n",
       "      <td>0</td>\n",
       "      <td>Chambord / Laurier</td>\n",
       "      <td>2015</td>\n",
       "    </tr>\n",
       "    <tr>\n",
       "      <th>1</th>\n",
       "      <td>6216</td>\n",
       "      <td>{'type': 'Point', 'crs': {'type': 'name', 'pro...</td>\n",
       "      <td>1</td>\n",
       "      <td>Parc Jeanne Mance (monument George-Étienne Car...</td>\n",
       "      <td>2015</td>\n",
       "    </tr>\n",
       "    <tr>\n",
       "      <th>2</th>\n",
       "      <td>6192</td>\n",
       "      <td>{'type': 'Point', 'crs': {'type': 'name', 'pro...</td>\n",
       "      <td>2</td>\n",
       "      <td>Berri / St-Grégoire</td>\n",
       "      <td>2015</td>\n",
       "    </tr>\n",
       "    <tr>\n",
       "      <th>3</th>\n",
       "      <td>6158</td>\n",
       "      <td>{'type': 'Point', 'crs': {'type': 'name', 'pro...</td>\n",
       "      <td>3</td>\n",
       "      <td>Gilford / Brébeuf</td>\n",
       "      <td>2015</td>\n",
       "    </tr>\n",
       "    <tr>\n",
       "      <th>4</th>\n",
       "      <td>6140</td>\n",
       "      <td>{'type': 'Point', 'crs': {'type': 'name', 'pro...</td>\n",
       "      <td>4</td>\n",
       "      <td>Marquette / Rachel</td>\n",
       "      <td>2015</td>\n",
       "    </tr>\n",
       "    <tr>\n",
       "      <th>...</th>\n",
       "      <td>...</td>\n",
       "      <td>...</td>\n",
       "      <td>...</td>\n",
       "      <td>...</td>\n",
       "      <td>...</td>\n",
       "    </tr>\n",
       "    <tr>\n",
       "      <th>495</th>\n",
       "      <td>6027</td>\n",
       "      <td>{'type': 'Point', 'crs': {'type': 'name', 'pro...</td>\n",
       "      <td>35</td>\n",
       "      <td>de Maisonneuve / Mansfield (sud)</td>\n",
       "      <td>2019</td>\n",
       "    </tr>\n",
       "    <tr>\n",
       "      <th>496</th>\n",
       "      <td>6029</td>\n",
       "      <td>{'type': 'Point', 'crs': {'type': 'name', 'pro...</td>\n",
       "      <td>36</td>\n",
       "      <td>Bourget / St-Jacques</td>\n",
       "      <td>2019</td>\n",
       "    </tr>\n",
       "    <tr>\n",
       "      <th>497</th>\n",
       "      <td>6031</td>\n",
       "      <td>{'type': 'Point', 'crs': {'type': 'name', 'pro...</td>\n",
       "      <td>37</td>\n",
       "      <td>de Maisonneuve / Robert-Bourassa</td>\n",
       "      <td>2019</td>\n",
       "    </tr>\n",
       "    <tr>\n",
       "      <th>498</th>\n",
       "      <td>6032</td>\n",
       "      <td>{'type': 'Point', 'crs': {'type': 'name', 'pro...</td>\n",
       "      <td>38</td>\n",
       "      <td>Métro Place-d'Armes (Viger / St-Urbain)</td>\n",
       "      <td>2019</td>\n",
       "    </tr>\n",
       "    <tr>\n",
       "      <th>499</th>\n",
       "      <td>6033</td>\n",
       "      <td>{'type': 'Point', 'crs': {'type': 'name', 'pro...</td>\n",
       "      <td>39</td>\n",
       "      <td>16e avenue / Beaubien</td>\n",
       "      <td>2019</td>\n",
       "    </tr>\n",
       "  </tbody>\n",
       "</table>\n",
       "<p>500 rows × 5 columns</p>\n",
       "</div>"
      ],
      "text/plain": [
       "     code                                               geom  index  \\\n",
       "0    6164  {'type': 'Point', 'crs': {'type': 'name', 'pro...      0   \n",
       "1    6216  {'type': 'Point', 'crs': {'type': 'name', 'pro...      1   \n",
       "2    6192  {'type': 'Point', 'crs': {'type': 'name', 'pro...      2   \n",
       "3    6158  {'type': 'Point', 'crs': {'type': 'name', 'pro...      3   \n",
       "4    6140  {'type': 'Point', 'crs': {'type': 'name', 'pro...      4   \n",
       "..    ...                                                ...    ...   \n",
       "495  6027  {'type': 'Point', 'crs': {'type': 'name', 'pro...     35   \n",
       "496  6029  {'type': 'Point', 'crs': {'type': 'name', 'pro...     36   \n",
       "497  6031  {'type': 'Point', 'crs': {'type': 'name', 'pro...     37   \n",
       "498  6032  {'type': 'Point', 'crs': {'type': 'name', 'pro...     38   \n",
       "499  6033  {'type': 'Point', 'crs': {'type': 'name', 'pro...     39   \n",
       "\n",
       "                                                  name  year  \n",
       "0                                   Chambord / Laurier  2015  \n",
       "1    Parc Jeanne Mance (monument George-Étienne Car...  2015  \n",
       "2                                  Berri / St-Grégoire  2015  \n",
       "3                                    Gilford / Brébeuf  2015  \n",
       "4                                   Marquette / Rachel  2015  \n",
       "..                                                 ...   ...  \n",
       "495                   de Maisonneuve / Mansfield (sud)  2019  \n",
       "496                               Bourget / St-Jacques  2019  \n",
       "497                   de Maisonneuve / Robert-Bourassa  2019  \n",
       "498            Métro Place-d'Armes (Viger / St-Urbain)  2019  \n",
       "499                              16e avenue / Beaubien  2019  \n",
       "\n",
       "[500 rows x 5 columns]"
      ]
     },
     "execution_count": 8,
     "metadata": {},
     "output_type": "execute_result"
    }
   ],
   "source": [
    "query_options = {\n",
    "    'columns': ['code', 'geom', 'index', 'name', 'year'], \n",
    "    'nrows': 500, \n",
    "    'skiprows': 0,\n",
    "}\n",
    "\n",
    "data = tb.query_simple( columns=['code', 'geom', 'index', 'name', 'year'], nrows=500 )\n",
    "# data = tb.query_simple( **query_options )\n",
    "\n",
    "print(\"Table Size: \", data.shape)\n",
    "data\n"
   ]
  },
  {
   "cell_type": "code",
   "execution_count": null,
   "id": "3498bd17",
   "metadata": {},
   "outputs": [],
   "source": []
  },
  {
   "cell_type": "code",
   "execution_count": 10,
   "id": "14329c6d",
   "metadata": {},
   "outputs": [
    {
     "data": {
      "text/plain": [
       "(45.35, 45.75)"
      ]
     },
     "execution_count": 10,
     "metadata": {},
     "output_type": "execute_result"
    },
    {
     "data": {
      "image/png": "[encoded data removed]",
      "text/plain": [
       "<Figure size 1200x1000 with 1 Axes>"
      ]
     },
     "metadata": {},
     "output_type": "display_data"
    }
   ],
   "source": [
    "import geopandas as gpd\n",
    "import matplotlib.pyplot as plt\n",
    "\n",
    "list_of_points = [ Point(row['geom']['coordinates']) for _, row in data.iterrows() ]\n",
    "\n",
    "gdf = gpd.GeoDataFrame(index=list(range(len(list_of_points))), crs='epsg:4326', geometry=list_of_points)\n",
    "\n",
    "# load neighbourhood shape file\n",
    "mtl_neighs = gpd.read_file('montreal_neighs.geojson')\n",
    "\n",
    "\n",
    "fig, ax = plt.subplots(figsize=(12, 10))\n",
    "mtl_neighs.plot(ax=ax, color=None, alpha=0.69, facecolor='white', edgecolor='black', linewidth=1)\n",
    "gdf.plot(ax=ax, color='r', alpha=0.2, facecolor='red', edgecolor=None, linewidth=0)\n",
    "\n",
    "ax.set_xlim(-74.05, -73.4)\n",
    "ax.set_ylim(45.35, 45.75)\n",
    "\n"
   ]
  },
  {
   "cell_type": "markdown",
   "id": "502a648a",
   "metadata": {},
   "source": [
    "### Get N rows from a table given a list of columns and distance to a point"
   ]
  },
  {
   "cell_type": "code",
   "execution_count": 11,
   "id": "e0c9ccb9",
   "metadata": {},
   "outputs": [
    {
     "name": "stdout",
     "output_type": "stream",
     "text": [
      "{'geometry': {'type': 'Point', 'coordinates': [-73.64453315734863, 45.46627091868821], 'crs': {'type': 'name', 'properties': {'name': 'EPSG:4326'}}}}\n",
      "Table Size:  (31, 3)\n"
     ]
    },
    {
     "data": {
      "text/html": [
       "<div>\n",
       "<style scoped>\n",
       "    .dataframe tbody tr th:only-of-type {\n",
       "        vertical-align: middle;\n",
       "    }\n",
       "\n",
       "    .dataframe tbody tr th {\n",
       "        vertical-align: top;\n",
       "    }\n",
       "\n",
       "    .dataframe thead th {\n",
       "        text-align: right;\n",
       "    }\n",
       "</style>\n",
       "<table border=\"1\" class=\"dataframe\">\n",
       "  <thead>\n",
       "    <tr style=\"text-align: right;\">\n",
       "      <th></th>\n",
       "      <th>code</th>\n",
       "      <th>name</th>\n",
       "      <th>year</th>\n",
       "    </tr>\n",
       "  </thead>\n",
       "  <tbody>\n",
       "    <tr>\n",
       "      <th>0</th>\n",
       "      <td>6115</td>\n",
       "      <td>Benny / Monkland</td>\n",
       "      <td>2015</td>\n",
       "    </tr>\n",
       "    <tr>\n",
       "      <th>1</th>\n",
       "      <td>6369</td>\n",
       "      <td>West Broadway / Sherbrooke</td>\n",
       "      <td>2015</td>\n",
       "    </tr>\n",
       "    <tr>\n",
       "      <th>2</th>\n",
       "      <td>6719</td>\n",
       "      <td>Park Row O / Sherbrooke</td>\n",
       "      <td>2015</td>\n",
       "    </tr>\n",
       "    <tr>\n",
       "      <th>3</th>\n",
       "      <td>6115</td>\n",
       "      <td>Benny / de Monkland</td>\n",
       "      <td>2019</td>\n",
       "    </tr>\n",
       "    <tr>\n",
       "      <th>4</th>\n",
       "      <td>6369</td>\n",
       "      <td>U. Concordia - Campus Loyola (Sherbrooke / Wes...</td>\n",
       "      <td>2019</td>\n",
       "    </tr>\n",
       "    <tr>\n",
       "      <th>5</th>\n",
       "      <td>6719</td>\n",
       "      <td>Park Row O / Sherbrooke</td>\n",
       "      <td>2019</td>\n",
       "    </tr>\n",
       "    <tr>\n",
       "      <th>6</th>\n",
       "      <td>7102</td>\n",
       "      <td>Grand Boulevard / de Terrebonne</td>\n",
       "      <td>2019</td>\n",
       "    </tr>\n",
       "    <tr>\n",
       "      <th>7</th>\n",
       "      <td>6115</td>\n",
       "      <td>Benny / de Monkland</td>\n",
       "      <td>2020</td>\n",
       "    </tr>\n",
       "    <tr>\n",
       "      <th>8</th>\n",
       "      <td>6369</td>\n",
       "      <td>U. Concordia - Campus Loyola (Sherbrooke / Wes...</td>\n",
       "      <td>2020</td>\n",
       "    </tr>\n",
       "    <tr>\n",
       "      <th>9</th>\n",
       "      <td>6719</td>\n",
       "      <td>Park Row O / Sherbrooke</td>\n",
       "      <td>2020</td>\n",
       "    </tr>\n",
       "    <tr>\n",
       "      <th>10</th>\n",
       "      <td>7041</td>\n",
       "      <td>Grand Boulevard / de Terrebonne</td>\n",
       "      <td>2020</td>\n",
       "    </tr>\n",
       "    <tr>\n",
       "      <th>11</th>\n",
       "      <td>6369</td>\n",
       "      <td>West Broadway / Sherbrooke</td>\n",
       "      <td>2017</td>\n",
       "    </tr>\n",
       "    <tr>\n",
       "      <th>12</th>\n",
       "      <td>7010</td>\n",
       "      <td>Belmore / Sherbrooke</td>\n",
       "      <td>2017</td>\n",
       "    </tr>\n",
       "    <tr>\n",
       "      <th>13</th>\n",
       "      <td>6719</td>\n",
       "      <td>Park Row O / Sherbrooke</td>\n",
       "      <td>2017</td>\n",
       "    </tr>\n",
       "    <tr>\n",
       "      <th>14</th>\n",
       "      <td>6115</td>\n",
       "      <td>Benny / de Monkland</td>\n",
       "      <td>2017</td>\n",
       "    </tr>\n",
       "    <tr>\n",
       "      <th>15</th>\n",
       "      <td>6369</td>\n",
       "      <td>West Broadway / Sherbrooke</td>\n",
       "      <td>2014</td>\n",
       "    </tr>\n",
       "    <tr>\n",
       "      <th>16</th>\n",
       "      <td>6719</td>\n",
       "      <td>Park Row O / Sherbrooke</td>\n",
       "      <td>2014</td>\n",
       "    </tr>\n",
       "    <tr>\n",
       "      <th>17</th>\n",
       "      <td>6115</td>\n",
       "      <td>Benny / Monkland</td>\n",
       "      <td>2014</td>\n",
       "    </tr>\n",
       "    <tr>\n",
       "      <th>18</th>\n",
       "      <td>7010</td>\n",
       "      <td>de Mayfair / Monkland</td>\n",
       "      <td>2018</td>\n",
       "    </tr>\n",
       "    <tr>\n",
       "      <th>19</th>\n",
       "      <td>6115</td>\n",
       "      <td>Benny / de Monkland</td>\n",
       "      <td>2018</td>\n",
       "    </tr>\n",
       "    <tr>\n",
       "      <th>20</th>\n",
       "      <td>6369</td>\n",
       "      <td>U. Concordia - Campus Loyola (Sherbrooke / Wes...</td>\n",
       "      <td>2018</td>\n",
       "    </tr>\n",
       "    <tr>\n",
       "      <th>21</th>\n",
       "      <td>6719</td>\n",
       "      <td>Park Row O / Sherbrooke</td>\n",
       "      <td>2018</td>\n",
       "    </tr>\n",
       "    <tr>\n",
       "      <th>22</th>\n",
       "      <td>341</td>\n",
       "      <td>U. Concordia - Campus Loyola (Sherbrooke / Wes...</td>\n",
       "      <td>2021</td>\n",
       "    </tr>\n",
       "    <tr>\n",
       "      <th>23</th>\n",
       "      <td>342</td>\n",
       "      <td>Park Row O / Sherbrooke</td>\n",
       "      <td>2021</td>\n",
       "    </tr>\n",
       "    <tr>\n",
       "      <th>24</th>\n",
       "      <td>511</td>\n",
       "      <td>Grand Boulevard / de Terrebonne</td>\n",
       "      <td>2021</td>\n",
       "    </tr>\n",
       "    <tr>\n",
       "      <th>25</th>\n",
       "      <td>913</td>\n",
       "      <td>Parc Benny (Benny / de Monkland)</td>\n",
       "      <td>2021</td>\n",
       "    </tr>\n",
       "    <tr>\n",
       "      <th>26</th>\n",
       "      <td>971</td>\n",
       "      <td>Parc Loyola (Somerled / Doherty)</td>\n",
       "      <td>2021</td>\n",
       "    </tr>\n",
       "    <tr>\n",
       "      <th>27</th>\n",
       "      <td>974</td>\n",
       "      <td>Parc de la Confédération (Fielding / West Hill)</td>\n",
       "      <td>2021</td>\n",
       "    </tr>\n",
       "    <tr>\n",
       "      <th>28</th>\n",
       "      <td>6719</td>\n",
       "      <td>Park Row O / Sherbrooke</td>\n",
       "      <td>2016</td>\n",
       "    </tr>\n",
       "    <tr>\n",
       "      <th>29</th>\n",
       "      <td>6369</td>\n",
       "      <td>West Broadway / Sherbrooke</td>\n",
       "      <td>2016</td>\n",
       "    </tr>\n",
       "    <tr>\n",
       "      <th>30</th>\n",
       "      <td>6115</td>\n",
       "      <td>Benny / Monkland</td>\n",
       "      <td>2016</td>\n",
       "    </tr>\n",
       "  </tbody>\n",
       "</table>\n",
       "</div>"
      ],
      "text/plain": [
       "    code                                               name  year\n",
       "0   6115                                   Benny / Monkland  2015\n",
       "1   6369                         West Broadway / Sherbrooke  2015\n",
       "2   6719                            Park Row O / Sherbrooke  2015\n",
       "3   6115                                Benny / de Monkland  2019\n",
       "4   6369  U. Concordia - Campus Loyola (Sherbrooke / Wes...  2019\n",
       "5   6719                            Park Row O / Sherbrooke  2019\n",
       "6   7102                    Grand Boulevard / de Terrebonne  2019\n",
       "7   6115                                Benny / de Monkland  2020\n",
       "8   6369  U. Concordia - Campus Loyola (Sherbrooke / Wes...  2020\n",
       "9   6719                            Park Row O / Sherbrooke  2020\n",
       "10  7041                    Grand Boulevard / de Terrebonne  2020\n",
       "11  6369                         West Broadway / Sherbrooke  2017\n",
       "12  7010                               Belmore / Sherbrooke  2017\n",
       "13  6719                            Park Row O / Sherbrooke  2017\n",
       "14  6115                                Benny / de Monkland  2017\n",
       "15  6369                         West Broadway / Sherbrooke  2014\n",
       "16  6719                            Park Row O / Sherbrooke  2014\n",
       "17  6115                                   Benny / Monkland  2014\n",
       "18  7010                              de Mayfair / Monkland  2018\n",
       "19  6115                                Benny / de Monkland  2018\n",
       "20  6369  U. Concordia - Campus Loyola (Sherbrooke / Wes...  2018\n",
       "21  6719                            Park Row O / Sherbrooke  2018\n",
       "22   341  U. Concordia - Campus Loyola (Sherbrooke / Wes...  2021\n",
       "23   342                            Park Row O / Sherbrooke  2021\n",
       "24   511                    Grand Boulevard / de Terrebonne  2021\n",
       "25   913                   Parc Benny (Benny / de Monkland)  2021\n",
       "26   971                   Parc Loyola (Somerled / Doherty)  2021\n",
       "27   974    Parc de la Confédération (Fielding / West Hill)  2021\n",
       "28  6719                            Park Row O / Sherbrooke  2016\n",
       "29  6369                         West Broadway / Sherbrooke  2016\n",
       "30  6115                                   Benny / Monkland  2016"
      ]
     },
     "execution_count": 11,
     "metadata": {},
     "output_type": "execute_result"
    }
   ],
   "source": [
    "query_geometry = PointGQL().point(-73.64453315734863,45.46627091868821)\n",
    "print( query_geometry )\n",
    "\n",
    "\n",
    "query_options = {\n",
    "    'columns': ['code', 'name', 'year'], \n",
    "    'nrows': 500, \n",
    "    'skiprows': 0,\n",
    "    'geometry_operation': 'distance_from_point',\n",
    "    'geom_distance': 0.015,\n",
    "    'geometry': query_geometry,\n",
    "    'crs_epsg': 4326,\n",
    "}\n",
    "\n",
    "data = tb.query_simple( **query_options )\n",
    "\n",
    "print(\"Table Size: \", data.shape)\n",
    "data\n"
   ]
  },
  {
   "cell_type": "code",
   "execution_count": null,
   "id": "8e2cb559",
   "metadata": {},
   "outputs": [],
   "source": []
  },
  {
   "cell_type": "code",
   "execution_count": 12,
   "id": "8da7b4c2",
   "metadata": {},
   "outputs": [
    {
     "data": {
      "text/plain": [
       "---------- Table:0 ----------\n",
       "Name:\t\tbuilding_lots \n",
       "Description:\t \n",
       "Format:\t\tCSV "
      ]
     },
     "execution_count": 12,
     "metadata": {},
     "output_type": "execute_result"
    }
   ],
   "source": [
    "ds = coll.search(by_name=\"lots\")[0]\n",
    "tb = ds[0]\n",
    "tb"
   ]
  },
  {
   "cell_type": "code",
   "execution_count": 13,
   "id": "b241377b",
   "metadata": {
    "scrolled": true
   },
   "outputs": [
    {
     "name": "stdout",
     "output_type": "stream",
     "text": [
      "{'geometry': {'type': 'Point', 'coordinates': [-73.64453315734863, 45.46627091868821], 'crs': {'type': 'name', 'properties': {'name': 'EPSG:4326'}}}}\n",
      "Table Size:  (1126, 4)\n"
     ]
    },
    {
     "data": {
      "text/html": [
       "<div>\n",
       "<style scoped>\n",
       "    .dataframe tbody tr th:only-of-type {\n",
       "        vertical-align: middle;\n",
       "    }\n",
       "\n",
       "    .dataframe tbody tr th {\n",
       "        vertical-align: top;\n",
       "    }\n",
       "\n",
       "    .dataframe thead th {\n",
       "        text-align: right;\n",
       "    }\n",
       "</style>\n",
       "<table border=\"1\" class=\"dataframe\">\n",
       "  <thead>\n",
       "    <tr style=\"text-align: right;\">\n",
       "      <th></th>\n",
       "      <th>index</th>\n",
       "      <th>built_area</th>\n",
       "      <th>geom</th>\n",
       "      <th>year_built</th>\n",
       "    </tr>\n",
       "  </thead>\n",
       "  <tbody>\n",
       "    <tr>\n",
       "      <th>0</th>\n",
       "      <td>7695</td>\n",
       "      <td>187</td>\n",
       "      <td>{'type': 'Polygon', 'crs': {'type': 'name', 'p...</td>\n",
       "      <td>1950</td>\n",
       "    </tr>\n",
       "    <tr>\n",
       "      <th>1</th>\n",
       "      <td>9799</td>\n",
       "      <td>2893</td>\n",
       "      <td>{'type': 'Polygon', 'crs': {'type': 'name', 'p...</td>\n",
       "      <td>2019</td>\n",
       "    </tr>\n",
       "    <tr>\n",
       "      <th>2</th>\n",
       "      <td>13099</td>\n",
       "      <td>284</td>\n",
       "      <td>{'type': 'Polygon', 'crs': {'type': 'name', 'p...</td>\n",
       "      <td>1955</td>\n",
       "    </tr>\n",
       "    <tr>\n",
       "      <th>3</th>\n",
       "      <td>13128</td>\n",
       "      <td>293</td>\n",
       "      <td>{'type': 'Polygon', 'crs': {'type': 'name', 'p...</td>\n",
       "      <td>1952</td>\n",
       "    </tr>\n",
       "    <tr>\n",
       "      <th>4</th>\n",
       "      <td>15743</td>\n",
       "      <td>187</td>\n",
       "      <td>{'type': 'Polygon', 'crs': {'type': 'name', 'p...</td>\n",
       "      <td>1947</td>\n",
       "    </tr>\n",
       "    <tr>\n",
       "      <th>...</th>\n",
       "      <td>...</td>\n",
       "      <td>...</td>\n",
       "      <td>...</td>\n",
       "      <td>...</td>\n",
       "    </tr>\n",
       "    <tr>\n",
       "      <th>1121</th>\n",
       "      <td>334170</td>\n",
       "      <td>240</td>\n",
       "      <td>{'type': 'Polygon', 'crs': {'type': 'name', 'p...</td>\n",
       "      <td>1954</td>\n",
       "    </tr>\n",
       "    <tr>\n",
       "      <th>1122</th>\n",
       "      <td>334373</td>\n",
       "      <td>194</td>\n",
       "      <td>{'type': 'Polygon', 'crs': {'type': 'name', 'p...</td>\n",
       "      <td>1953</td>\n",
       "    </tr>\n",
       "    <tr>\n",
       "      <th>1123</th>\n",
       "      <td>334457</td>\n",
       "      <td>184</td>\n",
       "      <td>{'type': 'Polygon', 'crs': {'type': 'name', 'p...</td>\n",
       "      <td>1951</td>\n",
       "    </tr>\n",
       "    <tr>\n",
       "      <th>1124</th>\n",
       "      <td>334487</td>\n",
       "      <td>187</td>\n",
       "      <td>{'type': 'Polygon', 'crs': {'type': 'name', 'p...</td>\n",
       "      <td>1951</td>\n",
       "    </tr>\n",
       "    <tr>\n",
       "      <th>1125</th>\n",
       "      <td>334565</td>\n",
       "      <td>238</td>\n",
       "      <td>{'type': 'Polygon', 'crs': {'type': 'name', 'p...</td>\n",
       "      <td>1959</td>\n",
       "    </tr>\n",
       "  </tbody>\n",
       "</table>\n",
       "<p>1126 rows × 4 columns</p>\n",
       "</div>"
      ],
      "text/plain": [
       "       index  built_area                                               geom  \\\n",
       "0       7695         187  {'type': 'Polygon', 'crs': {'type': 'name', 'p...   \n",
       "1       9799        2893  {'type': 'Polygon', 'crs': {'type': 'name', 'p...   \n",
       "2      13099         284  {'type': 'Polygon', 'crs': {'type': 'name', 'p...   \n",
       "3      13128         293  {'type': 'Polygon', 'crs': {'type': 'name', 'p...   \n",
       "4      15743         187  {'type': 'Polygon', 'crs': {'type': 'name', 'p...   \n",
       "...      ...         ...                                                ...   \n",
       "1121  334170         240  {'type': 'Polygon', 'crs': {'type': 'name', 'p...   \n",
       "1122  334373         194  {'type': 'Polygon', 'crs': {'type': 'name', 'p...   \n",
       "1123  334457         184  {'type': 'Polygon', 'crs': {'type': 'name', 'p...   \n",
       "1124  334487         187  {'type': 'Polygon', 'crs': {'type': 'name', 'p...   \n",
       "1125  334565         238  {'type': 'Polygon', 'crs': {'type': 'name', 'p...   \n",
       "\n",
       "      year_built  \n",
       "0           1950  \n",
       "1           2019  \n",
       "2           1955  \n",
       "3           1952  \n",
       "4           1947  \n",
       "...          ...  \n",
       "1121        1954  \n",
       "1122        1953  \n",
       "1123        1951  \n",
       "1124        1951  \n",
       "1125        1959  \n",
       "\n",
       "[1126 rows x 4 columns]"
      ]
     },
     "execution_count": 13,
     "metadata": {},
     "output_type": "execute_result"
    }
   ],
   "source": [
    "query_geometry = PointGQL().point(-73.64453315734863,45.46627091868821)\n",
    "print( query_geometry )\n",
    "\n",
    "\n",
    "query_options = {\n",
    "    'columns': ['index', 'built_area', 'geom', 'year_built'], \n",
    "    'nrows': 10000, \n",
    "    'skiprows': 0,\n",
    "    'geometry_operation': 'distance_from_point',\n",
    "    'geom_distance': 0.005,\n",
    "    'geometry': query_geometry,\n",
    "    'crs_epsg': 4326,\n",
    "}\n",
    "\n",
    "data = tb.query_simple( **query_options )\n",
    "\n",
    "print(\"Table Size: \", data.shape)\n",
    "data\n"
   ]
  },
  {
   "cell_type": "code",
   "execution_count": 16,
   "id": "a802f4ca",
   "metadata": {},
   "outputs": [
    {
     "ename": "ValueError",
     "evalue": "Inconsistent coordinate dimensionality",
     "output_type": "error",
     "traceback": [
      "\u001b[1;31m---------------------------------------------------------------------------\u001b[0m",
      "\u001b[1;31mValueError\u001b[0m                                Traceback (most recent call last)",
      "Cell \u001b[1;32mIn[16], line 4\u001b[0m\n\u001b[0;32m      1\u001b[0m \u001b[39mimport\u001b[39;00m \u001b[39mgeopandas\u001b[39;00m \u001b[39mas\u001b[39;00m \u001b[39mgpd\u001b[39;00m\n\u001b[0;32m      2\u001b[0m \u001b[39mimport\u001b[39;00m \u001b[39mmatplotlib\u001b[39;00m\u001b[39m.\u001b[39;00m\u001b[39mpyplot\u001b[39;00m \u001b[39mas\u001b[39;00m \u001b[39mplt\u001b[39;00m\n\u001b[1;32m----> 4\u001b[0m list_of_polygons \u001b[39m=\u001b[39m [Polygon([Point(el) \u001b[39mfor\u001b[39;00m el \u001b[39min\u001b[39;00m poly[\u001b[39m'\u001b[39m\u001b[39mgeom\u001b[39m\u001b[39m'\u001b[39m][\u001b[39m'\u001b[39m\u001b[39mcoordinates\u001b[39m\u001b[39m'\u001b[39m][\u001b[39m0\u001b[39m]]) \u001b[39mfor\u001b[39;00m _,poly \u001b[39min\u001b[39;00m data\u001b[39m.\u001b[39miterrows()]\n\u001b[0;32m      6\u001b[0m gdf \u001b[39m=\u001b[39m gpd\u001b[39m.\u001b[39mGeoDataFrame(index\u001b[39m=\u001b[39m\u001b[39mlist\u001b[39m(\u001b[39mrange\u001b[39m(\u001b[39mlen\u001b[39m(data))), crs\u001b[39m=\u001b[39m\u001b[39m'\u001b[39m\u001b[39mepsg:4326\u001b[39m\u001b[39m'\u001b[39m, geometry\u001b[39m=\u001b[39mlist_of_polygons)\n\u001b[0;32m      8\u001b[0m gdf\u001b[39m.\u001b[39mplot(color\u001b[39m=\u001b[39m\u001b[39m'\u001b[39m\u001b[39mr\u001b[39m\u001b[39m'\u001b[39m, alpha\u001b[39m=\u001b[39m\u001b[39m0.7\u001b[39m, facecolor\u001b[39m=\u001b[39m\u001b[39m'\u001b[39m\u001b[39mwhite\u001b[39m\u001b[39m'\u001b[39m, edgecolor\u001b[39m=\u001b[39m\u001b[39m'\u001b[39m\u001b[39mblack\u001b[39m\u001b[39m'\u001b[39m, linewidth\u001b[39m=\u001b[39m\u001b[39m2\u001b[39m, figsize\u001b[39m=\u001b[39m(\u001b[39m12\u001b[39m,\u001b[39m12\u001b[39m))\n",
      "Cell \u001b[1;32mIn[16], line 4\u001b[0m, in \u001b[0;36m<listcomp>\u001b[1;34m(.0)\u001b[0m\n\u001b[0;32m      1\u001b[0m \u001b[39mimport\u001b[39;00m \u001b[39mgeopandas\u001b[39;00m \u001b[39mas\u001b[39;00m \u001b[39mgpd\u001b[39;00m\n\u001b[0;32m      2\u001b[0m \u001b[39mimport\u001b[39;00m \u001b[39mmatplotlib\u001b[39;00m\u001b[39m.\u001b[39;00m\u001b[39mpyplot\u001b[39;00m \u001b[39mas\u001b[39;00m \u001b[39mplt\u001b[39;00m\n\u001b[1;32m----> 4\u001b[0m list_of_polygons \u001b[39m=\u001b[39m [Polygon([Point(el) \u001b[39mfor\u001b[39;49;00m el \u001b[39min\u001b[39;49;00m poly[\u001b[39m'\u001b[39;49m\u001b[39mgeom\u001b[39;49m\u001b[39m'\u001b[39;49m][\u001b[39m'\u001b[39;49m\u001b[39mcoordinates\u001b[39;49m\u001b[39m'\u001b[39;49m][\u001b[39m0\u001b[39;49m]]) \u001b[39mfor\u001b[39;00m _,poly \u001b[39min\u001b[39;00m data\u001b[39m.\u001b[39miterrows()]\n\u001b[0;32m      6\u001b[0m gdf \u001b[39m=\u001b[39m gpd\u001b[39m.\u001b[39mGeoDataFrame(index\u001b[39m=\u001b[39m\u001b[39mlist\u001b[39m(\u001b[39mrange\u001b[39m(\u001b[39mlen\u001b[39m(data))), crs\u001b[39m=\u001b[39m\u001b[39m'\u001b[39m\u001b[39mepsg:4326\u001b[39m\u001b[39m'\u001b[39m, geometry\u001b[39m=\u001b[39mlist_of_polygons)\n\u001b[0;32m      8\u001b[0m gdf\u001b[39m.\u001b[39mplot(color\u001b[39m=\u001b[39m\u001b[39m'\u001b[39m\u001b[39mr\u001b[39m\u001b[39m'\u001b[39m, alpha\u001b[39m=\u001b[39m\u001b[39m0.7\u001b[39m, facecolor\u001b[39m=\u001b[39m\u001b[39m'\u001b[39m\u001b[39mwhite\u001b[39m\u001b[39m'\u001b[39m, edgecolor\u001b[39m=\u001b[39m\u001b[39m'\u001b[39m\u001b[39mblack\u001b[39m\u001b[39m'\u001b[39m, linewidth\u001b[39m=\u001b[39m\u001b[39m2\u001b[39m, figsize\u001b[39m=\u001b[39m(\u001b[39m12\u001b[39m,\u001b[39m12\u001b[39m))\n",
      "File \u001b[1;32m~\\AppData\\Local\\Packages\\PythonSoftwareFoundation.Python.3.10_qbz5n2kfra8p0\\LocalCache\\local-packages\\Python310\\site-packages\\shapely\\geometry\\polygon.py:251\u001b[0m, in \u001b[0;36mPolygon.__new__\u001b[1;34m(self, shell, holes)\u001b[0m\n\u001b[0;32m    246\u001b[0m         \u001b[39mreturn\u001b[39;00m shapely\u001b[39m.\u001b[39mfrom_wkt(\u001b[39m\"\u001b[39m\u001b[39mPOLYGON EMPTY\u001b[39m\u001b[39m\"\u001b[39m)\n\u001b[0;32m    248\u001b[0m     \u001b[39mif\u001b[39;00m \u001b[39mnot\u001b[39;00m np\u001b[39m.\u001b[39missubdtype(shell\u001b[39m.\u001b[39mdtype, np\u001b[39m.\u001b[39mnumber):\n\u001b[0;32m    249\u001b[0m         \u001b[39m# conversion of coords to 2D array failed, this might be due\u001b[39;00m\n\u001b[0;32m    250\u001b[0m         \u001b[39m# to inconsistent coordinate dimensionality\u001b[39;00m\n\u001b[1;32m--> 251\u001b[0m         \u001b[39mraise\u001b[39;00m \u001b[39mValueError\u001b[39;00m(\u001b[39m\"\u001b[39m\u001b[39mInconsistent coordinate dimensionality\u001b[39m\u001b[39m\"\u001b[39m)\n\u001b[0;32m    252\u001b[0m \u001b[39melif\u001b[39;00m \u001b[39mnot\u001b[39;00m \u001b[39misinstance\u001b[39m(shell, LinearRing):\n\u001b[0;32m    253\u001b[0m     shell \u001b[39m=\u001b[39m LinearRing(shell)\n",
      "\u001b[1;31mValueError\u001b[0m: Inconsistent coordinate dimensionality"
     ]
    }
   ],
   "source": [
    "import geopandas as gpd\n",
    "import matplotlib.pyplot as plt\n",
    "\n",
    "list_of_polygons = [Polygon([Point(el) for el in poly['geom']['coordinates'][0]]) for _,poly in data.iterrows()]\n",
    "\n",
    "gdf = gpd.GeoDataFrame(index=list(range(len(data))), crs='epsg:4326', geometry=list_of_polygons)\n",
    "\n",
    "gdf.plot(color='r', alpha=0.7, facecolor='white', edgecolor='black', linewidth=2, figsize=(12,12))\n"
   ]
  },
  {
   "cell_type": "code",
   "execution_count": null,
   "id": "814492d2",
   "metadata": {},
   "outputs": [],
   "source": []
  },
  {
   "cell_type": "markdown",
   "id": "a8d923b5",
   "metadata": {},
   "source": [
    "### Get N rows from a table given a list of columns and within a polygon"
   ]
  },
  {
   "cell_type": "code",
   "execution_count": null,
   "id": "afa1749b",
   "metadata": {},
   "outputs": [],
   "source": [
    "query_geometry = PolygonGQL().rect_from_two_corners([-73.643610,45.468896], [-73.623610,45.458896])\n",
    "print( query_geometry )\n",
    "\n",
    "\n",
    "query_options = {\n",
    "    'columns': ['index', 'built_area', 'geom', 'year_built'], \n",
    "    'nrows': 10000, \n",
    "    'skiprows': 0,\n",
    "    'geometry_operation': 'is_within_poly',\n",
    "    'geometry': query_geometry,\n",
    "    'crs_epsg': 4326,\n",
    "}\n",
    "\n",
    "data = tb.query_simple( **query_options )\n",
    "\n",
    "print(\"Table Size: \", data.shape)\n",
    "data"
   ]
  },
  {
   "cell_type": "markdown",
   "id": "d58ad733",
   "metadata": {},
   "source": [
    "## visualize results"
   ]
  },
  {
   "cell_type": "code",
   "execution_count": null,
   "id": "f565b539",
   "metadata": {},
   "outputs": [],
   "source": [
    "import geopandas as gpd\n",
    "import matplotlib.pyplot as plt\n",
    "\n",
    "def rgb(minimum, maximum, value):\n",
    "    if value < minimum: value = minimum\n",
    "    if value > maximum: value = maximum\n",
    "    minimum, maximum = float(minimum), float(maximum)\n",
    "    ratio = 2 * (value-minimum) / (maximum - minimum)\n",
    "    b = int(max(0, 255*(1 - ratio)))\n",
    "    r = int(max(0, 255*(ratio - 1)))\n",
    "    g = 255 - b - r\n",
    "    return [r/255, g/255, b/255]\n",
    "\n",
    "list_of_polygons = [Polygon([Point(el) for el in poly['geom']['coordinates'][0]]) for _, poly in data.iterrows()]\n",
    "\n",
    "gdf = gpd.GeoDataFrame(index=list(range(len(data))), crs='epsg:4326', geometry=list_of_polygons)\n",
    "colors = data['year_built'].apply(lambda x: rgb(1900,2020,x))\n",
    "gdf.plot(color=colors, alpha=0.7, facecolor='white', edgecolor='black', linewidth=2, figsize=(12,12))\n",
    "\n"
   ]
  },
  {
   "cell_type": "code",
   "execution_count": null,
   "id": "996b0880",
   "metadata": {},
   "outputs": [],
   "source": []
  },
  {
   "cell_type": "markdown",
   "id": "c4c62358",
   "metadata": {},
   "source": [
    "## Save as file"
   ]
  },
  {
   "cell_type": "code",
   "execution_count": 15,
   "id": "e650e26b",
   "metadata": {},
   "outputs": [
    {
     "ename": "NameError",
     "evalue": "name 'df' is not defined",
     "output_type": "error",
     "traceback": [
      "\u001b[1;31m---------------------------------------------------------------------------\u001b[0m",
      "\u001b[1;31mNameError\u001b[0m                                 Traceback (most recent call last)",
      "Cell \u001b[1;32mIn[15], line 4\u001b[0m\n\u001b[0;32m      2\u001b[0m filepath \u001b[39m=\u001b[39m Path(\u001b[39m'\u001b[39m\u001b[39mfolder/subfolder/out.csv\u001b[39m\u001b[39m'\u001b[39m)  \n\u001b[0;32m      3\u001b[0m filepath\u001b[39m.\u001b[39mparent\u001b[39m.\u001b[39mmkdir(parents\u001b[39m=\u001b[39m\u001b[39mTrue\u001b[39;00m, exist_ok\u001b[39m=\u001b[39m\u001b[39mTrue\u001b[39;00m)  \n\u001b[1;32m----> 4\u001b[0m df\u001b[39m.\u001b[39mto_csv(filepath)\n",
      "\u001b[1;31mNameError\u001b[0m: name 'df' is not defined"
     ]
    }
   ],
   "source": [
    "from pathlib import Path  \n",
    "filepath = Path('folder/subfolder/out.csv')  \n",
    "filepath.parent.mkdir(parents=True, exist_ok=True)  \n",
    "df.to_csv(filepath)"
   ]
  },
  {
   "cell_type": "code",
   "execution_count": null,
   "id": "de4604e3",
   "metadata": {},
   "outputs": [],
   "source": []
  },
  {
   "cell_type": "code",
   "execution_count": null,
   "id": "5cb97360",
   "metadata": {},
   "outputs": [],
   "source": []
  },
  {
   "cell_type": "code",
   "execution_count": null,
   "id": "ed22f65f",
   "metadata": {},
   "outputs": [],
   "source": []
  },
  {
   "cell_type": "code",
   "execution_count": null,
   "id": "573e82eb",
   "metadata": {},
   "outputs": [],
   "source": []
  },
  {
   "cell_type": "code",
   "execution_count": null,
   "id": "15c65a51",
   "metadata": {},
   "outputs": [],
   "source": []
  },
  {
   "cell_type": "code",
   "execution_count": null,
   "id": "c6d4f07a",
   "metadata": {},
   "outputs": [],
   "source": []
  },
  {
   "cell_type": "code",
   "execution_count": null,
   "id": "bea727d8",
   "metadata": {},
   "outputs": [],
   "source": []
  },
  {
   "cell_type": "code",
   "execution_count": null,
   "id": "4c05ea7d",
   "metadata": {},
   "outputs": [],
   "source": []
  },
  {
   "cell_type": "code",
   "execution_count": null,
   "id": "18066a04",
   "metadata": {},
   "outputs": [],
   "source": []
  },
  {
   "cell_type": "code",
   "execution_count": null,
   "id": "a8476872",
   "metadata": {},
   "outputs": [],
   "source": []
  },
  {
   "cell_type": "code",
   "execution_count": null,
   "id": "6139aa9d",
   "metadata": {},
   "outputs": [],
   "source": []
  },
  {
   "cell_type": "code",
   "execution_count": null,
   "id": "06f77744",
   "metadata": {},
   "outputs": [],
   "source": []
  }
 ],
 "metadata": {
  "kernelspec": {
   "display_name": "Python 3",
   "language": "python",
   "name": "python3"
  },
  "language_info": {
   "codemirror_mode": {
    "name": "ipython",
    "version": 3
   },
   "file_extension": ".py",
   "mimetype": "text/x-python",
   "name": "python",
   "nbconvert_exporter": "python",
   "pygments_lexer": "ipython3",
   "version": "3.10.9"
  },
  "vscode": {
   "interpreter": {
    "hash": "e541ee6d54486746d3aae7e9be0b0ae413201b1ee011b910a9178edb5d78ede1"
   }
  }
 },
 "nbformat": 4,
 "nbformat_minor": 5
}
