{
 "cells": [
  {
   "attachments": {},
   "cell_type": "markdown",
   "metadata": {},
   "source": [
    "## This notebook pulls data from PycityLayers, based on proximity to a selected location (my home), and selects the buildings within the radius. Then it creates a graph based on the selected buildings' centroids. This graph is later used in Agent-Based Model (ABM) developed to represent occupants presence within each building.\n",
    "#### Assumptions are as follows:\n",
    "1. Each Building is considered as a single node.\n",
    "2. Nodes are not connected to one another.\n",
    "3. There is one node defined as \"outside node\" which is connected to all \"building nodes\".\n",
    "4. As things stand, the decision to leave home, or return home, is defined based on the randomly generated integer.\n",
    "5. There is no implication to occupants' being home or outside.\n",
    "\n",
    "#### next steps \n",
    "1. Add implications of occupants' presence/absence.\n",
    "2. Improve the movement behavior\n",
    "3. Figure out the proper visualization of the nodes on the map (currently it is in graph form, but each point contains the coordinates as attributes)\n",
    "4. Add other attributes to occupants (agents) (currently: only presence) (via DNAS framework)\n",
    "5. Add attributes to the nodes (currently: none) (examples: envelope characteristics, equipment properties, HVAC spec. etc.) \n",
    "6. Add other behavior to occupants (currently: only presence) "
   ]
  },
  {
   "attachments": {},
   "cell_type": "markdown",
   "metadata": {},
   "source": [
    "# Setup"
   ]
  },
  {
   "cell_type": "code",
   "execution_count": 1,
   "metadata": {},
   "outputs": [],
   "source": [
    "from pprint import pprint\n",
    "from pycitylayers.client import Client\n",
    "from pycitylayers.utils import PointGQL, PolygonGQL\n",
    "from shapely.geometry import Polygon, Point, MultiPolygon\n",
    "import matplotlib.pyplot as plt\n",
    "import pandas as pd\n",
    "import networkx as nx\n"
   ]
  },
  {
   "attachments": {},
   "cell_type": "markdown",
   "metadata": {},
   "source": [
    "## Fetch data from PyCityLayers"
   ]
  },
  {
   "cell_type": "code",
   "execution_count": 19,
   "metadata": {},
   "outputs": [
    {
     "name": "stdout",
     "output_type": "stream",
     "text": [
      "Fetching Metadata. Please Wait ...\n",
      "---------- Table:0 ----------\n",
      "Name:\t\tbuilding_lots \n",
      "Description:\t \n",
      "Format:\t\tCSV \n",
      "\n",
      "{'geometry': {'type': 'Point', 'coordinates': [-73.570552324815, 45.530402345761175], 'crs': {'type': 'name', 'properties': {'name': 'EPSG:4326'}}}}\n"
     ]
    },
    {
     "data": {
      "text/html": [
       "<div>\n",
       "<style scoped>\n",
       "    .dataframe tbody tr th:only-of-type {\n",
       "        vertical-align: middle;\n",
       "    }\n",
       "\n",
       "    .dataframe tbody tr th {\n",
       "        vertical-align: top;\n",
       "    }\n",
       "\n",
       "    .dataframe thead th {\n",
       "        text-align: right;\n",
       "    }\n",
       "</style>\n",
       "<table border=\"1\" class=\"dataframe\">\n",
       "  <thead>\n",
       "    <tr style=\"text-align: right;\">\n",
       "      <th></th>\n",
       "      <th>borough_id</th>\n",
       "      <th>building_number</th>\n",
       "      <th>built_area</th>\n",
       "      <th>dwelling_number</th>\n",
       "      <th>firstletter_apt</th>\n",
       "      <th>geom</th>\n",
       "      <th>index</th>\n",
       "      <th>land_area</th>\n",
       "      <th>landuse_code</th>\n",
       "      <th>landuse_text</th>\n",
       "      <th>lastletter_apt</th>\n",
       "      <th>max_floors</th>\n",
       "      <th>municipality_code</th>\n",
       "      <th>nad83_registration</th>\n",
       "      <th>street_name</th>\n",
       "      <th>street_number</th>\n",
       "      <th>uid</th>\n",
       "      <th>unit_category</th>\n",
       "      <th>unit_number</th>\n",
       "      <th>year_built</th>\n",
       "    </tr>\n",
       "  </thead>\n",
       "  <tbody>\n",
       "    <tr>\n",
       "      <th>0</th>\n",
       "      <td>REM21</td>\n",
       "      <td>4218</td>\n",
       "      <td>454</td>\n",
       "      <td>1</td>\n",
       "      <td>0</td>\n",
       "      <td>{'type': 'Polygon', 'crs': {'type': 'name', 'p...</td>\n",
       "      <td>4602</td>\n",
       "      <td>52</td>\n",
       "      <td>1000</td>\n",
       "      <td>Logement</td>\n",
       "      <td>0</td>\n",
       "      <td>1</td>\n",
       "      <td>50</td>\n",
       "      <td>9943-34-1120-6-001-0004</td>\n",
       "      <td>avenue Papineau  (MTL)</td>\n",
       "      <td>4218</td>\n",
       "      <td>5011916</td>\n",
       "      <td>Condominium</td>\n",
       "      <td>0</td>\n",
       "      <td>1910</td>\n",
       "    </tr>\n",
       "    <tr>\n",
       "      <th>1</th>\n",
       "      <td>REM21</td>\n",
       "      <td>4235</td>\n",
       "      <td>219</td>\n",
       "      <td>3</td>\n",
       "      <td>0</td>\n",
       "      <td>{'type': 'Polygon', 'crs': {'type': 'name', 'p...</td>\n",
       "      <td>21512</td>\n",
       "      <td>284</td>\n",
       "      <td>1000</td>\n",
       "      <td>Logement</td>\n",
       "      <td>0</td>\n",
       "      <td>2</td>\n",
       "      <td>50</td>\n",
       "      <td>9943-23-5995-0-000-0000</td>\n",
       "      <td>rue Marquette  (MTL)</td>\n",
       "      <td>4235</td>\n",
       "      <td>1030537</td>\n",
       "      <td>Régulier</td>\n",
       "      <td>0</td>\n",
       "      <td>1885</td>\n",
       "    </tr>\n",
       "    <tr>\n",
       "      <th>2</th>\n",
       "      <td>REM21</td>\n",
       "      <td>4220</td>\n",
       "      <td>362</td>\n",
       "      <td>5</td>\n",
       "      <td>0</td>\n",
       "      <td>{'type': 'Polygon', 'crs': {'type': 'name', 'p...</td>\n",
       "      <td>22960</td>\n",
       "      <td>239</td>\n",
       "      <td>1000</td>\n",
       "      <td>Logement</td>\n",
       "      <td>0</td>\n",
       "      <td>3</td>\n",
       "      <td>50</td>\n",
       "      <td>9943-23-5535-4-000-0000</td>\n",
       "      <td>rue Marquette  (MTL)</td>\n",
       "      <td>4224</td>\n",
       "      <td>1030019</td>\n",
       "      <td>Régulier</td>\n",
       "      <td>0</td>\n",
       "      <td>1926</td>\n",
       "    </tr>\n",
       "    <tr>\n",
       "      <th>3</th>\n",
       "      <td>REM21</td>\n",
       "      <td>1699</td>\n",
       "      <td>1255</td>\n",
       "      <td>16</td>\n",
       "      <td>0</td>\n",
       "      <td>{'type': 'Polygon', 'crs': {'type': 'name', 'p...</td>\n",
       "      <td>23674</td>\n",
       "      <td>644</td>\n",
       "      <td>1000</td>\n",
       "      <td>Logement</td>\n",
       "      <td>0</td>\n",
       "      <td>3</td>\n",
       "      <td>50</td>\n",
       "      <td>9943-34-3605-4-000-0000</td>\n",
       "      <td>rue Rachel Est  (MTL)</td>\n",
       "      <td>1699</td>\n",
       "      <td>1033787</td>\n",
       "      <td>Régulier</td>\n",
       "      <td>0</td>\n",
       "      <td>1927</td>\n",
       "    </tr>\n",
       "    <tr>\n",
       "      <th>4</th>\n",
       "      <td>REM21</td>\n",
       "      <td>1651</td>\n",
       "      <td>466</td>\n",
       "      <td>2</td>\n",
       "      <td>0</td>\n",
       "      <td>{'type': 'Polygon', 'crs': {'type': 'name', 'p...</td>\n",
       "      <td>23781</td>\n",
       "      <td>259</td>\n",
       "      <td>1000</td>\n",
       "      <td>Logement</td>\n",
       "      <td>0</td>\n",
       "      <td>3</td>\n",
       "      <td>50</td>\n",
       "      <td>9943-33-0449-2-000-0000</td>\n",
       "      <td>rue Rachel Est  (MTL)</td>\n",
       "      <td>1653</td>\n",
       "      <td>1033777</td>\n",
       "      <td>Régulier</td>\n",
       "      <td>0</td>\n",
       "      <td>1915</td>\n",
       "    </tr>\n",
       "  </tbody>\n",
       "</table>\n",
       "</div>"
      ],
      "text/plain": [
       "  borough_id  building_number  built_area  dwelling_number firstletter_apt  \\\n",
       "0      REM21             4218         454                1               0   \n",
       "1      REM21             4235         219                3               0   \n",
       "2      REM21             4220         362                5               0   \n",
       "3      REM21             1699        1255               16               0   \n",
       "4      REM21             1651         466                2               0   \n",
       "\n",
       "                                                geom  index  land_area  \\\n",
       "0  {'type': 'Polygon', 'crs': {'type': 'name', 'p...   4602         52   \n",
       "1  {'type': 'Polygon', 'crs': {'type': 'name', 'p...  21512        284   \n",
       "2  {'type': 'Polygon', 'crs': {'type': 'name', 'p...  22960        239   \n",
       "3  {'type': 'Polygon', 'crs': {'type': 'name', 'p...  23674        644   \n",
       "4  {'type': 'Polygon', 'crs': {'type': 'name', 'p...  23781        259   \n",
       "\n",
       "   landuse_code landuse_text lastletter_apt  max_floors  municipality_code  \\\n",
       "0          1000     Logement              0           1                 50   \n",
       "1          1000     Logement              0           2                 50   \n",
       "2          1000     Logement              0           3                 50   \n",
       "3          1000     Logement              0           3                 50   \n",
       "4          1000     Logement              0           3                 50   \n",
       "\n",
       "        nad83_registration             street_name  street_number      uid  \\\n",
       "0  9943-34-1120-6-001-0004  avenue Papineau  (MTL)           4218  5011916   \n",
       "1  9943-23-5995-0-000-0000    rue Marquette  (MTL)           4235  1030537   \n",
       "2  9943-23-5535-4-000-0000    rue Marquette  (MTL)           4224  1030019   \n",
       "3  9943-34-3605-4-000-0000   rue Rachel Est  (MTL)           1699  1033787   \n",
       "4  9943-33-0449-2-000-0000   rue Rachel Est  (MTL)           1653  1033777   \n",
       "\n",
       "  unit_category unit_number  year_built  \n",
       "0   Condominium           0        1910  \n",
       "1      Régulier           0        1885  \n",
       "2      Régulier           0        1926  \n",
       "3      Régulier           0        1927  \n",
       "4      Régulier           0        1915  "
      ]
     },
     "execution_count": 19,
     "metadata": {},
     "output_type": "execute_result"
    }
   ],
   "source": [
    "client = Client().create(source='cerc')\n",
    "coll = client.collection\n",
    "tb=coll[6][0]\n",
    "print(tb)\n",
    "query_geometry = PointGQL().point(-73.570552324815,45.530402345761175)\n",
    "print( query_geometry )\n",
    "\n",
    "query_options = {\n",
    "    # 'columns': ['index', 'built_area', 'geom', 'year_built'], \n",
    "    'nrows': 10000, \n",
    "    'skiprows': 0,\n",
    "    'geometry_operation': 'distance_from_point',\n",
    "    'geom_distance': 0.0005,\n",
    "    'geometry': query_geometry,\n",
    "    'crs_epsg': 4326,\n",
    "}\n",
    "\n",
    "data_lots = tb.query_simple( **query_options )\n",
    "data_lots.head()"
   ]
  },
  {
   "cell_type": "code",
   "execution_count": 21,
   "metadata": {},
   "outputs": [
    {
     "name": "stdout",
     "output_type": "stream",
     "text": [
      "Number of selected buildings: 24\n"
     ]
    }
   ],
   "source": [
    "print(\"Number of selected buildings:\",len(data_lots))"
   ]
  },
  {
   "attachments": {},
   "cell_type": "markdown",
   "metadata": {},
   "source": [
    "## Find the centroid of the buildings"
   ]
  },
  {
   "cell_type": "code",
   "execution_count": 22,
   "metadata": {},
   "outputs": [
    {
     "data": {
      "image/png": "[encoded data removed]",
      "text/plain": [
       "<Figure size 640x480 with 1 Axes>"
      ]
     },
     "metadata": {},
     "output_type": "display_data"
    },
    {
     "name": "stdout",
     "output_type": "stream",
     "text": [
      "# centroids: 24\n",
      "# polygons: 24\n"
     ]
    }
   ],
   "source": [
    "centroid=[]\n",
    "for i in range(len(data_lots)):\n",
    "    vertex = data_lots.iloc[i,:][\"geom\"][\"coordinates\"][0]\n",
    "    polygon1=Polygon(vertex)\n",
    "    polygon1\n",
    "    centroid.append(polygon1.centroid)\n",
    "    plt.plot(*polygon1.exterior.xy)\n",
    "plt.show()\n",
    "print(\"# centroids:\",len(centroid))\n",
    "print(\"# polygons:\",len(data_lots))"
   ]
  },
  {
   "attachments": {},
   "cell_type": "markdown",
   "metadata": {},
   "source": [
    "## Having extracted the centroids, the graph can be generated. Also, the coordinates of the centroid points are used to plot them. "
   ]
  },
  {
   "cell_type": "code",
   "execution_count": 23,
   "metadata": {},
   "outputs": [
    {
     "data": {
      "image/png": "[encoded data removed]",
      "text/plain": [
       "<Figure size 640x480 with 1 Axes>"
      ]
     },
     "metadata": {},
     "output_type": "display_data"
    },
    {
     "data": {
      "image/png": "[encoded data removed]",
      "text/plain": [
       "<Figure size 640x480 with 1 Axes>"
      ]
     },
     "metadata": {},
     "output_type": "display_data"
    },
    {
     "data": {
      "application/vnd.plotly.v1+json": {
       "config": {
        "plotlyServerURL": "https://plot.ly"
       },
       "data": [
        {
         "hovertemplate": "x=%{x}<br>y=%{y}<br>text=%{text}<extra></extra>",
         "legendgroup": "",
         "marker": {
          "color": "#636efa",
          "symbol": "circle"
         },
         "mode": "markers+text",
         "name": "",
         "orientation": "v",
         "showlegend": false,
         "text": [
          0,
          1,
          2,
          3,
          4,
          5,
          6,
          7,
          8,
          9,
          10,
          11,
          12,
          13,
          14,
          15,
          16,
          17,
          18,
          19,
          20,
          21,
          22,
          23
         ],
         "type": "scatter",
         "x": [
          -73.57026418070816,
          -73.57093946097167,
          -73.57098284234328,
          -73.56994310484892,
          -73.57035898798514,
          -73.57085773079233,
          -73.57045888909143,
          -73.57040665697969,
          -73.57072740522868,
          -73.57034634821964,
          -73.57060408816916,
          -73.57029387218036,
          -73.57064463824129,
          -73.57052118449565,
          -73.57023803638607,
          -73.57069579615043,
          -73.57007521330466,
          -73.57080888547941,
          -73.5701927374567,
          -73.57065523797618,
          -73.57077446835982,
          -73.57102247546192,
          -73.57110442417184,
          -73.57052310783122
         ],
         "xaxis": "x",
         "y": [
          45.53067653207329,
          45.530451680248255,
          45.529910731347556,
          45.53054893126106,
          45.53003901739475,
          45.53041189038763,
          45.53053017073991,
          45.53058656352379,
          45.53081043801879,
          45.5307140338368,
          45.530370394212696,
          45.53013542253028,
          45.53077208772598,
          45.53071489064118,
          45.530218535520575,
          45.53028540564721,
          45.53040803208079,
          45.53084814481561,
          45.53029507011751,
          45.52980173737191,
          45.53037480147787,
          45.530489341492476,
          45.53052755688839,
          45.53016202851135
         ],
         "yaxis": "y"
        }
       ],
       "layout": {
        "height": 800,
        "legend": {
         "tracegroupgap": 0
        },
        "margin": {
         "t": 60
        },
        "template": {
         "data": {
          "bar": [
           {
            "error_x": {
             "color": "#2a3f5f"
            },
            "error_y": {
             "color": "#2a3f5f"
            },
            "marker": {
             "line": {
              "color": "#E5ECF6",
              "width": 0.5
             },
             "pattern": {
              "fillmode": "overlay",
              "size": 10,
              "solidity": 0.2
             }
            },
            "type": "bar"
           }
          ],
          "barpolar": [
           {
            "marker": {
             "line": {
              "color": "#E5ECF6",
              "width": 0.5
             },
             "pattern": {
              "fillmode": "overlay",
              "size": 10,
              "solidity": 0.2
             }
            },
            "type": "barpolar"
           }
          ],
          "carpet": [
           {
            "aaxis": {
             "endlinecolor": "#2a3f5f",
             "gridcolor": "white",
             "linecolor": "white",
             "minorgridcolor": "white",
             "startlinecolor": "#2a3f5f"
            },
            "baxis": {
             "endlinecolor": "#2a3f5f",
             "gridcolor": "white",
             "linecolor": "white",
             "minorgridcolor": "white",
             "startlinecolor": "#2a3f5f"
            },
            "type": "carpet"
           }
          ],
          "choropleth": [
           {
            "colorbar": {
             "outlinewidth": 0,
             "ticks": ""
            },
            "type": "choropleth"
           }
          ],
          "contour": [
           {
            "colorbar": {
             "outlinewidth": 0,
             "ticks": ""
            },
            "colorscale": [
             [
              0,
              "#0d0887"
             ],
             [
              0.1111111111111111,
              "#46039f"
             ],
             [
              0.2222222222222222,
              "#7201a8"
             ],
             [
              0.3333333333333333,
              "#9c179e"
             ],
             [
              0.4444444444444444,
              "#bd3786"
             ],
             [
              0.5555555555555556,
              "#d8576b"
             ],
             [
              0.6666666666666666,
              "#ed7953"
             ],
             [
              0.7777777777777778,
              "#fb9f3a"
             ],
             [
              0.8888888888888888,
              "#fdca26"
             ],
             [
              1,
              "#f0f921"
             ]
            ],
            "type": "contour"
           }
          ],
          "contourcarpet": [
           {
            "colorbar": {
             "outlinewidth": 0,
             "ticks": ""
            },
            "type": "contourcarpet"
           }
          ],
          "heatmap": [
           {
            "colorbar": {
             "outlinewidth": 0,
             "ticks": ""
            },
            "colorscale": [
             [
              0,
              "#0d0887"
             ],
             [
              0.1111111111111111,
              "#46039f"
             ],
             [
              0.2222222222222222,
              "#7201a8"
             ],
             [
              0.3333333333333333,
              "#9c179e"
             ],
             [
              0.4444444444444444,
              "#bd3786"
             ],
             [
              0.5555555555555556,
              "#d8576b"
             ],
             [
              0.6666666666666666,
              "#ed7953"
             ],
             [
              0.7777777777777778,
              "#fb9f3a"
             ],
             [
              0.8888888888888888,
              "#fdca26"
             ],
             [
              1,
              "#f0f921"
             ]
            ],
            "type": "heatmap"
           }
          ],
          "heatmapgl": [
           {
            "colorbar": {
             "outlinewidth": 0,
             "ticks": ""
            },
            "colorscale": [
             [
              0,
              "#0d0887"
             ],
             [
              0.1111111111111111,
              "#46039f"
             ],
             [
              0.2222222222222222,
              "#7201a8"
             ],
             [
              0.3333333333333333,
              "#9c179e"
             ],
             [
              0.4444444444444444,
              "#bd3786"
             ],
             [
              0.5555555555555556,
              "#d8576b"
             ],
             [
              0.6666666666666666,
              "#ed7953"
             ],
             [
              0.7777777777777778,
              "#fb9f3a"
             ],
             [
              0.8888888888888888,
              "#fdca26"
             ],
             [
              1,
              "#f0f921"
             ]
            ],
            "type": "heatmapgl"
           }
          ],
          "histogram": [
           {
            "marker": {
             "pattern": {
              "fillmode": "overlay",
              "size": 10,
              "solidity": 0.2
             }
            },
            "type": "histogram"
           }
          ],
          "histogram2d": [
           {
            "colorbar": {
             "outlinewidth": 0,
             "ticks": ""
            },
            "colorscale": [
             [
              0,
              "#0d0887"
             ],
             [
              0.1111111111111111,
              "#46039f"
             ],
             [
              0.2222222222222222,
              "#7201a8"
             ],
             [
              0.3333333333333333,
              "#9c179e"
             ],
             [
              0.4444444444444444,
              "#bd3786"
             ],
             [
              0.5555555555555556,
              "#d8576b"
             ],
             [
              0.6666666666666666,
              "#ed7953"
             ],
             [
              0.7777777777777778,
              "#fb9f3a"
             ],
             [
              0.8888888888888888,
              "#fdca26"
             ],
             [
              1,
              "#f0f921"
             ]
            ],
            "type": "histogram2d"
           }
          ],
          "histogram2dcontour": [
           {
            "colorbar": {
             "outlinewidth": 0,
             "ticks": ""
            },
            "colorscale": [
             [
              0,
              "#0d0887"
             ],
             [
              0.1111111111111111,
              "#46039f"
             ],
             [
              0.2222222222222222,
              "#7201a8"
             ],
             [
              0.3333333333333333,
              "#9c179e"
             ],
             [
              0.4444444444444444,
              "#bd3786"
             ],
             [
              0.5555555555555556,
              "#d8576b"
             ],
             [
              0.6666666666666666,
              "#ed7953"
             ],
             [
              0.7777777777777778,
              "#fb9f3a"
             ],
             [
              0.8888888888888888,
              "#fdca26"
             ],
             [
              1,
              "#f0f921"
             ]
            ],
            "type": "histogram2dcontour"
           }
          ],
          "mesh3d": [
           {
            "colorbar": {
             "outlinewidth": 0,
             "ticks": ""
            },
            "type": "mesh3d"
           }
          ],
          "parcoords": [
           {
            "line": {
             "colorbar": {
              "outlinewidth": 0,
              "ticks": ""
             }
            },
            "type": "parcoords"
           }
          ],
          "pie": [
           {
            "automargin": true,
            "type": "pie"
           }
          ],
          "scatter": [
           {
            "fillpattern": {
             "fillmode": "overlay",
             "size": 10,
             "solidity": 0.2
            },
            "type": "scatter"
           }
          ],
          "scatter3d": [
           {
            "line": {
             "colorbar": {
              "outlinewidth": 0,
              "ticks": ""
             }
            },
            "marker": {
             "colorbar": {
              "outlinewidth": 0,
              "ticks": ""
             }
            },
            "type": "scatter3d"
           }
          ],
          "scattercarpet": [
           {
            "marker": {
             "colorbar": {
              "outlinewidth": 0,
              "ticks": ""
             }
            },
            "type": "scattercarpet"
           }
          ],
          "scattergeo": [
           {
            "marker": {
             "colorbar": {
              "outlinewidth": 0,
              "ticks": ""
             }
            },
            "type": "scattergeo"
           }
          ],
          "scattergl": [
           {
            "marker": {
             "colorbar": {
              "outlinewidth": 0,
              "ticks": ""
             }
            },
            "type": "scattergl"
           }
          ],
          "scattermapbox": [
           {
            "marker": {
             "colorbar": {
              "outlinewidth": 0,
              "ticks": ""
             }
            },
            "type": "scattermapbox"
           }
          ],
          "scatterpolar": [
           {
            "marker": {
             "colorbar": {
              "outlinewidth": 0,
              "ticks": ""
             }
            },
            "type": "scatterpolar"
           }
          ],
          "scatterpolargl": [
           {
            "marker": {
             "colorbar": {
              "outlinewidth": 0,
              "ticks": ""
             }
            },
            "type": "scatterpolargl"
           }
          ],
          "scatterternary": [
           {
            "marker": {
             "colorbar": {
              "outlinewidth": 0,
              "ticks": ""
             }
            },
            "type": "scatterternary"
           }
          ],
          "surface": [
           {
            "colorbar": {
             "outlinewidth": 0,
             "ticks": ""
            },
            "colorscale": [
             [
              0,
              "#0d0887"
             ],
             [
              0.1111111111111111,
              "#46039f"
             ],
             [
              0.2222222222222222,
              "#7201a8"
             ],
             [
              0.3333333333333333,
              "#9c179e"
             ],
             [
              0.4444444444444444,
              "#bd3786"
             ],
             [
              0.5555555555555556,
              "#d8576b"
             ],
             [
              0.6666666666666666,
              "#ed7953"
             ],
             [
              0.7777777777777778,
              "#fb9f3a"
             ],
             [
              0.8888888888888888,
              "#fdca26"
             ],
             [
              1,
              "#f0f921"
             ]
            ],
            "type": "surface"
           }
          ],
          "table": [
           {
            "cells": {
             "fill": {
              "color": "#EBF0F8"
             },
             "line": {
              "color": "white"
             }
            },
            "header": {
             "fill": {
              "color": "#C8D4E3"
             },
             "line": {
              "color": "white"
             }
            },
            "type": "table"
           }
          ]
         },
         "layout": {
          "annotationdefaults": {
           "arrowcolor": "#2a3f5f",
           "arrowhead": 0,
           "arrowwidth": 1
          },
          "autotypenumbers": "strict",
          "coloraxis": {
           "colorbar": {
            "outlinewidth": 0,
            "ticks": ""
           }
          },
          "colorscale": {
           "diverging": [
            [
             0,
             "#8e0152"
            ],
            [
             0.1,
             "#c51b7d"
            ],
            [
             0.2,
             "#de77ae"
            ],
            [
             0.3,
             "#f1b6da"
            ],
            [
             0.4,
             "#fde0ef"
            ],
            [
             0.5,
             "#f7f7f7"
            ],
            [
             0.6,
             "#e6f5d0"
            ],
            [
             0.7,
             "#b8e186"
            ],
            [
             0.8,
             "#7fbc41"
            ],
            [
             0.9,
             "#4d9221"
            ],
            [
             1,
             "#276419"
            ]
           ],
           "sequential": [
            [
             0,
             "#0d0887"
            ],
            [
             0.1111111111111111,
             "#46039f"
            ],
            [
             0.2222222222222222,
             "#7201a8"
            ],
            [
             0.3333333333333333,
             "#9c179e"
            ],
            [
             0.4444444444444444,
             "#bd3786"
            ],
            [
             0.5555555555555556,
             "#d8576b"
            ],
            [
             0.6666666666666666,
             "#ed7953"
            ],
            [
             0.7777777777777778,
             "#fb9f3a"
            ],
            [
             0.8888888888888888,
             "#fdca26"
            ],
            [
             1,
             "#f0f921"
            ]
           ],
           "sequentialminus": [
            [
             0,
             "#0d0887"
            ],
            [
             0.1111111111111111,
             "#46039f"
            ],
            [
             0.2222222222222222,
             "#7201a8"
            ],
            [
             0.3333333333333333,
             "#9c179e"
            ],
            [
             0.4444444444444444,
             "#bd3786"
            ],
            [
             0.5555555555555556,
             "#d8576b"
            ],
            [
             0.6666666666666666,
             "#ed7953"
            ],
            [
             0.7777777777777778,
             "#fb9f3a"
            ],
            [
             0.8888888888888888,
             "#fdca26"
            ],
            [
             1,
             "#f0f921"
            ]
           ]
          },
          "colorway": [
           "#636efa",
           "#EF553B",
           "#00cc96",
           "#ab63fa",
           "#FFA15A",
           "#19d3f3",
           "#FF6692",
           "#B6E880",
           "#FF97FF",
           "#FECB52"
          ],
          "font": {
           "color": "#2a3f5f"
          },
          "geo": {
           "bgcolor": "white",
           "lakecolor": "white",
           "landcolor": "#E5ECF6",
           "showlakes": true,
           "showland": true,
           "subunitcolor": "white"
          },
          "hoverlabel": {
           "align": "left"
          },
          "hovermode": "closest",
          "mapbox": {
           "style": "light"
          },
          "paper_bgcolor": "white",
          "plot_bgcolor": "#E5ECF6",
          "polar": {
           "angularaxis": {
            "gridcolor": "white",
            "linecolor": "white",
            "ticks": ""
           },
           "bgcolor": "#E5ECF6",
           "radialaxis": {
            "gridcolor": "white",
            "linecolor": "white",
            "ticks": ""
           }
          },
          "scene": {
           "xaxis": {
            "backgroundcolor": "#E5ECF6",
            "gridcolor": "white",
            "gridwidth": 2,
            "linecolor": "white",
            "showbackground": true,
            "ticks": "",
            "zerolinecolor": "white"
           },
           "yaxis": {
            "backgroundcolor": "#E5ECF6",
            "gridcolor": "white",
            "gridwidth": 2,
            "linecolor": "white",
            "showbackground": true,
            "ticks": "",
            "zerolinecolor": "white"
           },
           "zaxis": {
            "backgroundcolor": "#E5ECF6",
            "gridcolor": "white",
            "gridwidth": 2,
            "linecolor": "white",
            "showbackground": true,
            "ticks": "",
            "zerolinecolor": "white"
           }
          },
          "shapedefaults": {
           "line": {
            "color": "#2a3f5f"
           }
          },
          "ternary": {
           "aaxis": {
            "gridcolor": "white",
            "linecolor": "white",
            "ticks": ""
           },
           "baxis": {
            "gridcolor": "white",
            "linecolor": "white",
            "ticks": ""
           },
           "bgcolor": "#E5ECF6",
           "caxis": {
            "gridcolor": "white",
            "linecolor": "white",
            "ticks": ""
           }
          },
          "title": {
           "x": 0.05
          },
          "xaxis": {
           "automargin": true,
           "gridcolor": "white",
           "linecolor": "white",
           "ticks": "",
           "title": {
            "standoff": 15
           },
           "zerolinecolor": "white",
           "zerolinewidth": 2
          },
          "yaxis": {
           "automargin": true,
           "gridcolor": "white",
           "linecolor": "white",
           "ticks": "",
           "title": {
            "standoff": 15
           },
           "zerolinecolor": "white",
           "zerolinewidth": 2
          }
         }
        },
        "width": 1200,
        "xaxis": {
         "anchor": "y",
         "domain": [
          0,
          1
         ],
         "title": {
          "text": "x"
         }
        },
        "yaxis": {
         "anchor": "x",
         "domain": [
          0,
          1
         ],
         "title": {
          "text": "y"
         }
        }
       }
      }
     },
     "metadata": {},
     "output_type": "display_data"
    }
   ],
   "source": [
    "# create graph\n",
    "G=nx.Graph()\n",
    "for i in range(len(centroid)):\n",
    "    G.add_node(i,pos=(centroid[i].x,centroid[i].y))\n",
    "nx.draw(G, with_labels=True)\n",
    "\n",
    "# extract position attributes of the points\n",
    "pos=nx.get_node_attributes(G,'pos')\n",
    "\n",
    "xs,ys,label=[],[],[]\n",
    "for i in range(len(pos)):\n",
    "    xs.append(pos[i][0])\n",
    "    ys.append(pos[i][1])\n",
    "    label.append(i)\n",
    "\n",
    "# plot the centroids - plt\n",
    "\n",
    "n=list(G.nodes)\n",
    "fig, ax = plt.subplots()\n",
    "ax.scatter(xs, ys)\n",
    "plt.grid()\n",
    "\n",
    "for i, txt in enumerate(n):\n",
    "    ax.annotate(txt, (xs[i], ys[i]))\n",
    "plt.show()\n",
    "\n",
    "# plot the centroids - plotly\n",
    "import plotly.express as px\n",
    "px.scatter(x=xs,y=ys,width=1200, height=800,text=label)"
   ]
  },
  {
   "attachments": {},
   "cell_type": "markdown",
   "metadata": {},
   "source": [
    "## add one node representing \"outside\" and replot"
   ]
  },
  {
   "cell_type": "code",
   "execution_count": 24,
   "metadata": {},
   "outputs": [
    {
     "data": {
      "image/png": "[encoded data removed]",
      "text/plain": [
       "<Figure size 640x480 with 1 Axes>"
      ]
     },
     "metadata": {},
     "output_type": "display_data"
    },
    {
     "data": {
      "application/vnd.plotly.v1+json": {
       "config": {
        "plotlyServerURL": "https://plot.ly"
       },
       "data": [
        {
         "hovertemplate": "x=%{x}<br>y=%{y}<br>text=%{text}<extra></extra>",
         "legendgroup": "",
         "marker": {
          "color": "#636efa",
          "symbol": "circle"
         },
         "mode": "markers+text",
         "name": "",
         "orientation": "v",
         "showlegend": false,
         "text": [
          0,
          1,
          2,
          3,
          4,
          5,
          6,
          7,
          8,
          9,
          10,
          11,
          12,
          13,
          14,
          15,
          16,
          17,
          18,
          19,
          20,
          21,
          22,
          23,
          24
         ],
         "type": "scatter",
         "x": [
          -73.57026418070816,
          -73.57093946097167,
          -73.57098284234328,
          -73.56994310484892,
          -73.57035898798514,
          -73.57085773079233,
          -73.57045888909143,
          -73.57040665697969,
          -73.57072740522868,
          -73.57034634821964,
          -73.57060408816916,
          -73.57029387218036,
          -73.57064463824129,
          -73.57052118449565,
          -73.57023803638607,
          -73.57069579615043,
          -73.57007521330466,
          -73.57080888547941,
          -73.5701927374567,
          -73.57065523797618,
          -73.57077446835982,
          -73.57102247546192,
          -73.57110442417184,
          -73.57052310783122,
          -73.57
         ],
         "xaxis": "x",
         "y": [
          45.53067653207329,
          45.530451680248255,
          45.529910731347556,
          45.53054893126106,
          45.53003901739475,
          45.53041189038763,
          45.53053017073991,
          45.53058656352379,
          45.53081043801879,
          45.5307140338368,
          45.530370394212696,
          45.53013542253028,
          45.53077208772598,
          45.53071489064118,
          45.530218535520575,
          45.53028540564721,
          45.53040803208079,
          45.53084814481561,
          45.53029507011751,
          45.52980173737191,
          45.53037480147787,
          45.530489341492476,
          45.53052755688839,
          45.53016202851135,
          45.53
         ],
         "yaxis": "y"
        }
       ],
       "layout": {
        "height": 800,
        "legend": {
         "tracegroupgap": 0
        },
        "margin": {
         "t": 60
        },
        "template": {
         "data": {
          "bar": [
           {
            "error_x": {
             "color": "#2a3f5f"
            },
            "error_y": {
             "color": "#2a3f5f"
            },
            "marker": {
             "line": {
              "color": "#E5ECF6",
              "width": 0.5
             },
             "pattern": {
              "fillmode": "overlay",
              "size": 10,
              "solidity": 0.2
             }
            },
            "type": "bar"
           }
          ],
          "barpolar": [
           {
            "marker": {
             "line": {
              "color": "#E5ECF6",
              "width": 0.5
             },
             "pattern": {
              "fillmode": "overlay",
              "size": 10,
              "solidity": 0.2
             }
            },
            "type": "barpolar"
           }
          ],
          "carpet": [
           {
            "aaxis": {
             "endlinecolor": "#2a3f5f",
             "gridcolor": "white",
             "linecolor": "white",
             "minorgridcolor": "white",
             "startlinecolor": "#2a3f5f"
            },
            "baxis": {
             "endlinecolor": "#2a3f5f",
             "gridcolor": "white",
             "linecolor": "white",
             "minorgridcolor": "white",
             "startlinecolor": "#2a3f5f"
            },
            "type": "carpet"
           }
          ],
          "choropleth": [
           {
            "colorbar": {
             "outlinewidth": 0,
             "ticks": ""
            },
            "type": "choropleth"
           }
          ],
          "contour": [
           {
            "colorbar": {
             "outlinewidth": 0,
             "ticks": ""
            },
            "colorscale": [
             [
              0,
              "#0d0887"
             ],
             [
              0.1111111111111111,
              "#46039f"
             ],
             [
              0.2222222222222222,
              "#7201a8"
             ],
             [
              0.3333333333333333,
              "#9c179e"
             ],
             [
              0.4444444444444444,
              "#bd3786"
             ],
             [
              0.5555555555555556,
              "#d8576b"
             ],
             [
              0.6666666666666666,
              "#ed7953"
             ],
             [
              0.7777777777777778,
              "#fb9f3a"
             ],
             [
              0.8888888888888888,
              "#fdca26"
             ],
             [
              1,
              "#f0f921"
             ]
            ],
            "type": "contour"
           }
          ],
          "contourcarpet": [
           {
            "colorbar": {
             "outlinewidth": 0,
             "ticks": ""
            },
            "type": "contourcarpet"
           }
          ],
          "heatmap": [
           {
            "colorbar": {
             "outlinewidth": 0,
             "ticks": ""
            },
            "colorscale": [
             [
              0,
              "#0d0887"
             ],
             [
              0.1111111111111111,
              "#46039f"
             ],
             [
              0.2222222222222222,
              "#7201a8"
             ],
             [
              0.3333333333333333,
              "#9c179e"
             ],
             [
              0.4444444444444444,
              "#bd3786"
             ],
             [
              0.5555555555555556,
              "#d8576b"
             ],
             [
              0.6666666666666666,
              "#ed7953"
             ],
             [
              0.7777777777777778,
              "#fb9f3a"
             ],
             [
              0.8888888888888888,
              "#fdca26"
             ],
             [
              1,
              "#f0f921"
             ]
            ],
            "type": "heatmap"
           }
          ],
          "heatmapgl": [
           {
            "colorbar": {
             "outlinewidth": 0,
             "ticks": ""
            },
            "colorscale": [
             [
              0,
              "#0d0887"
             ],
             [
              0.1111111111111111,
              "#46039f"
             ],
             [
              0.2222222222222222,
              "#7201a8"
             ],
             [
              0.3333333333333333,
              "#9c179e"
             ],
             [
              0.4444444444444444,
              "#bd3786"
             ],
             [
              0.5555555555555556,
              "#d8576b"
             ],
             [
              0.6666666666666666,
              "#ed7953"
             ],
             [
              0.7777777777777778,
              "#fb9f3a"
             ],
             [
              0.8888888888888888,
              "#fdca26"
             ],
             [
              1,
              "#f0f921"
             ]
            ],
            "type": "heatmapgl"
           }
          ],
          "histogram": [
           {
            "marker": {
             "pattern": {
              "fillmode": "overlay",
              "size": 10,
              "solidity": 0.2
             }
            },
            "type": "histogram"
           }
          ],
          "histogram2d": [
           {
            "colorbar": {
             "outlinewidth": 0,
             "ticks": ""
            },
            "colorscale": [
             [
              0,
              "#0d0887"
             ],
             [
              0.1111111111111111,
              "#46039f"
             ],
             [
              0.2222222222222222,
              "#7201a8"
             ],
             [
              0.3333333333333333,
              "#9c179e"
             ],
             [
              0.4444444444444444,
              "#bd3786"
             ],
             [
              0.5555555555555556,
              "#d8576b"
             ],
             [
              0.6666666666666666,
              "#ed7953"
             ],
             [
              0.7777777777777778,
              "#fb9f3a"
             ],
             [
              0.8888888888888888,
              "#fdca26"
             ],
             [
              1,
              "#f0f921"
             ]
            ],
            "type": "histogram2d"
           }
          ],
          "histogram2dcontour": [
           {
            "colorbar": {
             "outlinewidth": 0,
             "ticks": ""
            },
            "colorscale": [
             [
              0,
              "#0d0887"
             ],
             [
              0.1111111111111111,
              "#46039f"
             ],
             [
              0.2222222222222222,
              "#7201a8"
             ],
             [
              0.3333333333333333,
              "#9c179e"
             ],
             [
              0.4444444444444444,
              "#bd3786"
             ],
             [
              0.5555555555555556,
              "#d8576b"
             ],
             [
              0.6666666666666666,
              "#ed7953"
             ],
             [
              0.7777777777777778,
              "#fb9f3a"
             ],
             [
              0.8888888888888888,
              "#fdca26"
             ],
             [
              1,
              "#f0f921"
             ]
            ],
            "type": "histogram2dcontour"
           }
          ],
          "mesh3d": [
           {
            "colorbar": {
             "outlinewidth": 0,
             "ticks": ""
            },
            "type": "mesh3d"
           }
          ],
          "parcoords": [
           {
            "line": {
             "colorbar": {
              "outlinewidth": 0,
              "ticks": ""
             }
            },
            "type": "parcoords"
           }
          ],
          "pie": [
           {
            "automargin": true,
            "type": "pie"
           }
          ],
          "scatter": [
           {
            "fillpattern": {
             "fillmode": "overlay",
             "size": 10,
             "solidity": 0.2
            },
            "type": "scatter"
           }
          ],
          "scatter3d": [
           {
            "line": {
             "colorbar": {
              "outlinewidth": 0,
              "ticks": ""
             }
            },
            "marker": {
             "colorbar": {
              "outlinewidth": 0,
              "ticks": ""
             }
            },
            "type": "scatter3d"
           }
          ],
          "scattercarpet": [
           {
            "marker": {
             "colorbar": {
              "outlinewidth": 0,
              "ticks": ""
             }
            },
            "type": "scattercarpet"
           }
          ],
          "scattergeo": [
           {
            "marker": {
             "colorbar": {
              "outlinewidth": 0,
              "ticks": ""
             }
            },
            "type": "scattergeo"
           }
          ],
          "scattergl": [
           {
            "marker": {
             "colorbar": {
              "outlinewidth": 0,
              "ticks": ""
             }
            },
            "type": "scattergl"
           }
          ],
          "scattermapbox": [
           {
            "marker": {
             "colorbar": {
              "outlinewidth": 0,
              "ticks": ""
             }
            },
            "type": "scattermapbox"
           }
          ],
          "scatterpolar": [
           {
            "marker": {
             "colorbar": {
              "outlinewidth": 0,
              "ticks": ""
             }
            },
            "type": "scatterpolar"
           }
          ],
          "scatterpolargl": [
           {
            "marker": {
             "colorbar": {
              "outlinewidth": 0,
              "ticks": ""
             }
            },
            "type": "scatterpolargl"
           }
          ],
          "scatterternary": [
           {
            "marker": {
             "colorbar": {
              "outlinewidth": 0,
              "ticks": ""
             }
            },
            "type": "scatterternary"
           }
          ],
          "surface": [
           {
            "colorbar": {
             "outlinewidth": 0,
             "ticks": ""
            },
            "colorscale": [
             [
              0,
              "#0d0887"
             ],
             [
              0.1111111111111111,
              "#46039f"
             ],
             [
              0.2222222222222222,
              "#7201a8"
             ],
             [
              0.3333333333333333,
              "#9c179e"
             ],
             [
              0.4444444444444444,
              "#bd3786"
             ],
             [
              0.5555555555555556,
              "#d8576b"
             ],
             [
              0.6666666666666666,
              "#ed7953"
             ],
             [
              0.7777777777777778,
              "#fb9f3a"
             ],
             [
              0.8888888888888888,
              "#fdca26"
             ],
             [
              1,
              "#f0f921"
             ]
            ],
            "type": "surface"
           }
          ],
          "table": [
           {
            "cells": {
             "fill": {
              "color": "#EBF0F8"
             },
             "line": {
              "color": "white"
             }
            },
            "header": {
             "fill": {
              "color": "#C8D4E3"
             },
             "line": {
              "color": "white"
             }
            },
            "type": "table"
           }
          ]
         },
         "layout": {
          "annotationdefaults": {
           "arrowcolor": "#2a3f5f",
           "arrowhead": 0,
           "arrowwidth": 1
          },
          "autotypenumbers": "strict",
          "coloraxis": {
           "colorbar": {
            "outlinewidth": 0,
            "ticks": ""
           }
          },
          "colorscale": {
           "diverging": [
            [
             0,
             "#8e0152"
            ],
            [
             0.1,
             "#c51b7d"
            ],
            [
             0.2,
             "#de77ae"
            ],
            [
             0.3,
             "#f1b6da"
            ],
            [
             0.4,
             "#fde0ef"
            ],
            [
             0.5,
             "#f7f7f7"
            ],
            [
             0.6,
             "#e6f5d0"
            ],
            [
             0.7,
             "#b8e186"
            ],
            [
             0.8,
             "#7fbc41"
            ],
            [
             0.9,
             "#4d9221"
            ],
            [
             1,
             "#276419"
            ]
           ],
           "sequential": [
            [
             0,
             "#0d0887"
            ],
            [
             0.1111111111111111,
             "#46039f"
            ],
            [
             0.2222222222222222,
             "#7201a8"
            ],
            [
             0.3333333333333333,
             "#9c179e"
            ],
            [
             0.4444444444444444,
             "#bd3786"
            ],
            [
             0.5555555555555556,
             "#d8576b"
            ],
            [
             0.6666666666666666,
             "#ed7953"
            ],
            [
             0.7777777777777778,
             "#fb9f3a"
            ],
            [
             0.8888888888888888,
             "#fdca26"
            ],
            [
             1,
             "#f0f921"
            ]
           ],
           "sequentialminus": [
            [
             0,
             "#0d0887"
            ],
            [
             0.1111111111111111,
             "#46039f"
            ],
            [
             0.2222222222222222,
             "#7201a8"
            ],
            [
             0.3333333333333333,
             "#9c179e"
            ],
            [
             0.4444444444444444,
             "#bd3786"
            ],
            [
             0.5555555555555556,
             "#d8576b"
            ],
            [
             0.6666666666666666,
             "#ed7953"
            ],
            [
             0.7777777777777778,
             "#fb9f3a"
            ],
            [
             0.8888888888888888,
             "#fdca26"
            ],
            [
             1,
             "#f0f921"
            ]
           ]
          },
          "colorway": [
           "#636efa",
           "#EF553B",
           "#00cc96",
           "#ab63fa",
           "#FFA15A",
           "#19d3f3",
           "#FF6692",
           "#B6E880",
           "#FF97FF",
           "#FECB52"
          ],
          "font": {
           "color": "#2a3f5f"
          },
          "geo": {
           "bgcolor": "white",
           "lakecolor": "white",
           "landcolor": "#E5ECF6",
           "showlakes": true,
           "showland": true,
           "subunitcolor": "white"
          },
          "hoverlabel": {
           "align": "left"
          },
          "hovermode": "closest",
          "mapbox": {
           "style": "light"
          },
          "paper_bgcolor": "white",
          "plot_bgcolor": "#E5ECF6",
          "polar": {
           "angularaxis": {
            "gridcolor": "white",
            "linecolor": "white",
            "ticks": ""
           },
           "bgcolor": "#E5ECF6",
           "radialaxis": {
            "gridcolor": "white",
            "linecolor": "white",
            "ticks": ""
           }
          },
          "scene": {
           "xaxis": {
            "backgroundcolor": "#E5ECF6",
            "gridcolor": "white",
            "gridwidth": 2,
            "linecolor": "white",
            "showbackground": true,
            "ticks": "",
            "zerolinecolor": "white"
           },
           "yaxis": {
            "backgroundcolor": "#E5ECF6",
            "gridcolor": "white",
            "gridwidth": 2,
            "linecolor": "white",
            "showbackground": true,
            "ticks": "",
            "zerolinecolor": "white"
           },
           "zaxis": {
            "backgroundcolor": "#E5ECF6",
            "gridcolor": "white",
            "gridwidth": 2,
            "linecolor": "white",
            "showbackground": true,
            "ticks": "",
            "zerolinecolor": "white"
           }
          },
          "shapedefaults": {
           "line": {
            "color": "#2a3f5f"
           }
          },
          "ternary": {
           "aaxis": {
            "gridcolor": "white",
            "linecolor": "white",
            "ticks": ""
           },
           "baxis": {
            "gridcolor": "white",
            "linecolor": "white",
            "ticks": ""
           },
           "bgcolor": "#E5ECF6",
           "caxis": {
            "gridcolor": "white",
            "linecolor": "white",
            "ticks": ""
           }
          },
          "title": {
           "x": 0.05
          },
          "xaxis": {
           "automargin": true,
           "gridcolor": "white",
           "linecolor": "white",
           "ticks": "",
           "title": {
            "standoff": 15
           },
           "zerolinecolor": "white",
           "zerolinewidth": 2
          },
          "yaxis": {
           "automargin": true,
           "gridcolor": "white",
           "linecolor": "white",
           "ticks": "",
           "title": {
            "standoff": 15
           },
           "zerolinecolor": "white",
           "zerolinewidth": 2
          }
         }
        },
        "width": 1200,
        "xaxis": {
         "anchor": "y",
         "domain": [
          0,
          1
         ],
         "title": {
          "text": "x"
         }
        },
        "yaxis": {
         "anchor": "x",
         "domain": [
          0,
          1
         ],
         "title": {
          "text": "y"
         }
        }
       }
      }
     },
     "metadata": {},
     "output_type": "display_data"
    }
   ],
   "source": [
    "G.add_node(len(G),pos=(-73.57,45.53))\n",
    "pos=nx.get_node_attributes(G,'pos')\n",
    "\n",
    "xs,ys,label=[],[],[]\n",
    "for i in range(len(pos)):\n",
    "    xs.append(pos[i][0])\n",
    "    ys.append(pos[i][1])\n",
    "    label.append(i)\n",
    "\n",
    "# plot the centroids - plt\n",
    "\n",
    "n=list(G.nodes)\n",
    "fig, ax = plt.subplots()\n",
    "ax.scatter(xs, ys)\n",
    "plt.grid()\n",
    "\n",
    "for i, txt in enumerate(n):\n",
    "    ax.annotate(txt, (xs[i], ys[i]))\n",
    "plt.show()\n",
    "\n",
    "# plot the centroids - plotly\n",
    "import plotly.express as px\n",
    "px.scatter(x=xs,y=ys,width=1200, height=800,text=label)"
   ]
  },
  {
   "attachments": {},
   "cell_type": "markdown",
   "metadata": {},
   "source": [
    "## connecting all the nodes to the \"outside\" node"
   ]
  },
  {
   "cell_type": "code",
   "execution_count": 25,
   "metadata": {},
   "outputs": [
    {
     "data": {
      "image/png": "[encoded data removed]",
      "text/plain": [
       "<Figure size 640x480 with 1 Axes>"
      ]
     },
     "metadata": {},
     "output_type": "display_data"
    }
   ],
   "source": [
    "N=len(G)-1\n",
    "for i in range(len(G)-1):\n",
    "    G.add_edge(i, N)\n",
    "G.number_of_edges()\n",
    "nx.draw(G, with_labels=True)\n"
   ]
  },
  {
   "attachments": {},
   "cell_type": "markdown",
   "metadata": {},
   "source": [
    "### The graph is created and can be used in the MESA space definition"
   ]
  },
  {
   "attachments": {},
   "cell_type": "markdown",
   "metadata": {},
   "source": [
    "# ABM Setup"
   ]
  },
  {
   "cell_type": "code",
   "execution_count": 26,
   "metadata": {},
   "outputs": [],
   "source": [
    "import mesa\n",
    "import random\n"
   ]
  },
  {
   "attachments": {},
   "cell_type": "markdown",
   "metadata": {},
   "source": [
    "## model and agents are set up such that their initial positions are their homes, which share the same ID as the agents. Their movement from and to home in each step depends on a randomly generated integer"
   ]
  },
  {
   "cell_type": "code",
   "execution_count": 30,
   "metadata": {},
   "outputs": [],
   "source": [
    "class MoneyAgent(mesa.Agent):\n",
    "    \"\"\"An agent with fixed initial wealth.\"\"\"\n",
    "\n",
    "    def __init__(self, unique_id, model):\n",
    "        super().__init__(unique_id, model)\n",
    "        self.wealth = 1\n",
    "        self.home=self.unique_id\n",
    "\n",
    "    def move_out(self):\n",
    "        new_position = 24\n",
    "        self.model.grid.move_agent(self, new_position)\n",
    "    \n",
    "    def go_home(self):\n",
    "        self.model.grid.move_agent(self,self.home)\n",
    "    \n",
    "    # def give_money(self):\n",
    "    #     cellmates = self.model.grid.get_cell_list_contents([self.pos])\n",
    "    #     if len(cellmates) > 1:\n",
    "    #         other = self.random.choice(cellmates)\n",
    "    #         other.wealth += 1\n",
    "    #         self.wealth -= 1\n",
    "\n",
    "\n",
    "\n",
    "    def step(self):\n",
    "        if self.pos==self.home:\n",
    "            if random.randint(0,10)>8:\n",
    "                self.move_out()\n",
    "        else:\n",
    "            if random.randint(0,10)>8:\n",
    "                self.go_home()\n",
    "        \n",
    "        # The agent's step will go here.\n",
    "        # For demonstration purposes we will print the agent's unique_id\n",
    "        print(\"Agent #\" + str(self.unique_id) + \", Wealth:\"+str(self.wealth)+\",Location:\"+str(self.pos))\n",
    "        # if self.wealth > 0:\n",
    "        #     self.give_money()\n",
    "\n",
    "class MoneyModel(mesa.Model):\n",
    "    \"\"\"A model with some number of agents.\"\"\"\n",
    "\n",
    "    def __init__(self, N):\n",
    "        self.num_agents = N\n",
    "        # self.grid = mesa.space.MultiGrid(width, height, True)\n",
    "        self.grid = mesa.space.NetworkGrid(G)\n",
    "        self.schedule = mesa.time.RandomActivation(self)\n",
    "        self.running = True\n",
    "        \n",
    "        # Create agents\n",
    "        for i, node in enumerate(list(G.nodes())[:-1]):\n",
    "            a = MoneyAgent(i, self)\n",
    "            self.schedule.add(a)\n",
    "            \n",
    "            # Add the agent to a random grid cell\n",
    "            # x = self.random.randrange(self.grid.width)\n",
    "            # y = self.random.randrange(self.grid.height)\n",
    "            self.grid.place_agent(a,node)\n",
    "\n",
    "        self.datacollector = mesa.DataCollector(\n",
    "             agent_reporters={\"pos\": \"pos\",}\n",
    "        )\n",
    "\n",
    "    def step(self):\n",
    "        \"\"\"Advance the model by one step.\"\"\"\n",
    "        self.datacollector.collect(self)\n",
    "        self.schedule.step()"
   ]
  },
  {
   "attachments": {},
   "cell_type": "markdown",
   "metadata": {},
   "source": [
    "## having defined the model and agents, 24 agents (same number as the number of nodes (=buildings)) are created and ten (10) ticks are performed. "
   ]
  },
  {
   "cell_type": "code",
   "execution_count": 47,
   "metadata": {},
   "outputs": [
    {
     "name": "stdout",
     "output_type": "stream",
     "text": [
      "Agent #2, Wealth:1,Location:2\n",
      "Agent #6, Wealth:1,Location:24\n",
      "Agent #21, Wealth:1,Location:21\n",
      "Agent #18, Wealth:1,Location:18\n",
      "Agent #9, Wealth:1,Location:24\n",
      "Agent #19, Wealth:1,Location:24\n",
      "Agent #12, Wealth:1,Location:12\n",
      "Agent #22, Wealth:1,Location:24\n",
      "Agent #3, Wealth:1,Location:3\n",
      "Agent #23, Wealth:1,Location:24\n",
      "Agent #11, Wealth:1,Location:11\n",
      "Agent #15, Wealth:1,Location:15\n",
      "Agent #0, Wealth:1,Location:0\n",
      "Agent #7, Wealth:1,Location:7\n",
      "Agent #4, Wealth:1,Location:4\n",
      "Agent #8, Wealth:1,Location:8\n",
      "Agent #14, Wealth:1,Location:24\n",
      "Agent #16, Wealth:1,Location:16\n",
      "Agent #1, Wealth:1,Location:1\n",
      "Agent #17, Wealth:1,Location:17\n",
      "Agent #13, Wealth:1,Location:13\n",
      "Agent #10, Wealth:1,Location:10\n",
      "Agent #20, Wealth:1,Location:20\n",
      "Agent #5, Wealth:1,Location:5\n",
      "Agent #8, Wealth:1,Location:8\n",
      "Agent #23, Wealth:1,Location:23\n",
      "Agent #3, Wealth:1,Location:3\n",
      "Agent #20, Wealth:1,Location:20\n",
      "Agent #11, Wealth:1,Location:11\n",
      "Agent #16, Wealth:1,Location:16\n",
      "Agent #0, Wealth:1,Location:0\n",
      "Agent #13, Wealth:1,Location:24\n",
      "Agent #6, Wealth:1,Location:24\n",
      "Agent #10, Wealth:1,Location:24\n",
      "Agent #9, Wealth:1,Location:24\n",
      "Agent #2, Wealth:1,Location:2\n",
      "Agent #18, Wealth:1,Location:18\n",
      "Agent #7, Wealth:1,Location:7\n",
      "Agent #19, Wealth:1,Location:24\n",
      "Agent #15, Wealth:1,Location:15\n",
      "Agent #14, Wealth:1,Location:14\n",
      "Agent #21, Wealth:1,Location:21\n",
      "Agent #12, Wealth:1,Location:12\n",
      "Agent #4, Wealth:1,Location:4\n",
      "Agent #1, Wealth:1,Location:1\n",
      "Agent #5, Wealth:1,Location:5\n",
      "Agent #17, Wealth:1,Location:17\n",
      "Agent #22, Wealth:1,Location:24\n",
      "Agent #17, Wealth:1,Location:17\n",
      "Agent #4, Wealth:1,Location:4\n",
      "Agent #10, Wealth:1,Location:24\n",
      "Agent #15, Wealth:1,Location:15\n",
      "Agent #2, Wealth:1,Location:2\n",
      "Agent #19, Wealth:1,Location:24\n",
      "Agent #5, Wealth:1,Location:5\n",
      "Agent #8, Wealth:1,Location:8\n",
      "Agent #16, Wealth:1,Location:16\n",
      "Agent #11, Wealth:1,Location:11\n",
      "Agent #1, Wealth:1,Location:1\n",
      "Agent #20, Wealth:1,Location:24\n",
      "Agent #13, Wealth:1,Location:24\n",
      "Agent #22, Wealth:1,Location:24\n",
      "Agent #0, Wealth:1,Location:0\n",
      "Agent #18, Wealth:1,Location:18\n",
      "Agent #7, Wealth:1,Location:7\n",
      "Agent #23, Wealth:1,Location:23\n",
      "Agent #21, Wealth:1,Location:21\n",
      "Agent #9, Wealth:1,Location:24\n",
      "Agent #3, Wealth:1,Location:3\n",
      "Agent #6, Wealth:1,Location:6\n",
      "Agent #12, Wealth:1,Location:12\n",
      "Agent #14, Wealth:1,Location:14\n",
      "Agent #3, Wealth:1,Location:3\n",
      "Agent #16, Wealth:1,Location:16\n",
      "Agent #0, Wealth:1,Location:0\n",
      "Agent #18, Wealth:1,Location:18\n",
      "Agent #2, Wealth:1,Location:2\n",
      "Agent #14, Wealth:1,Location:14\n",
      "Agent #7, Wealth:1,Location:7\n",
      "Agent #15, Wealth:1,Location:15\n",
      "Agent #22, Wealth:1,Location:22\n",
      "Agent #12, Wealth:1,Location:12\n",
      "Agent #5, Wealth:1,Location:5\n",
      "Agent #6, Wealth:1,Location:6\n",
      "Agent #20, Wealth:1,Location:20\n",
      "Agent #4, Wealth:1,Location:4\n",
      "Agent #8, Wealth:1,Location:8\n",
      "Agent #9, Wealth:1,Location:24\n",
      "Agent #17, Wealth:1,Location:17\n",
      "Agent #21, Wealth:1,Location:24\n",
      "Agent #10, Wealth:1,Location:24\n",
      "Agent #23, Wealth:1,Location:23\n",
      "Agent #1, Wealth:1,Location:1\n",
      "Agent #19, Wealth:1,Location:24\n",
      "Agent #11, Wealth:1,Location:11\n",
      "Agent #13, Wealth:1,Location:24\n",
      "Agent #20, Wealth:1,Location:24\n",
      "Agent #9, Wealth:1,Location:24\n",
      "Agent #22, Wealth:1,Location:22\n",
      "Agent #3, Wealth:1,Location:3\n",
      "Agent #12, Wealth:1,Location:12\n",
      "Agent #1, Wealth:1,Location:1\n",
      "Agent #14, Wealth:1,Location:14\n",
      "Agent #13, Wealth:1,Location:24\n",
      "Agent #5, Wealth:1,Location:5\n",
      "Agent #19, Wealth:1,Location:24\n",
      "Agent #4, Wealth:1,Location:24\n",
      "Agent #8, Wealth:1,Location:8\n",
      "Agent #6, Wealth:1,Location:24\n",
      "Agent #17, Wealth:1,Location:17\n",
      "Agent #0, Wealth:1,Location:0\n",
      "Agent #10, Wealth:1,Location:24\n",
      "Agent #7, Wealth:1,Location:7\n",
      "Agent #2, Wealth:1,Location:2\n",
      "Agent #21, Wealth:1,Location:24\n",
      "Agent #15, Wealth:1,Location:24\n",
      "Agent #16, Wealth:1,Location:16\n",
      "Agent #11, Wealth:1,Location:11\n",
      "Agent #18, Wealth:1,Location:18\n",
      "Agent #23, Wealth:1,Location:24\n",
      "Agent #11, Wealth:1,Location:11\n",
      "Agent #13, Wealth:1,Location:13\n",
      "Agent #1, Wealth:1,Location:24\n",
      "Agent #20, Wealth:1,Location:24\n",
      "Agent #21, Wealth:1,Location:24\n",
      "Agent #19, Wealth:1,Location:24\n",
      "Agent #4, Wealth:1,Location:24\n",
      "Agent #14, Wealth:1,Location:14\n",
      "Agent #12, Wealth:1,Location:12\n",
      "Agent #18, Wealth:1,Location:24\n",
      "Agent #8, Wealth:1,Location:8\n",
      "Agent #15, Wealth:1,Location:24\n",
      "Agent #16, Wealth:1,Location:16\n",
      "Agent #10, Wealth:1,Location:10\n",
      "Agent #5, Wealth:1,Location:5\n",
      "Agent #3, Wealth:1,Location:3\n",
      "Agent #6, Wealth:1,Location:24\n",
      "Agent #23, Wealth:1,Location:23\n",
      "Agent #0, Wealth:1,Location:24\n",
      "Agent #2, Wealth:1,Location:2\n",
      "Agent #22, Wealth:1,Location:22\n",
      "Agent #9, Wealth:1,Location:24\n",
      "Agent #7, Wealth:1,Location:7\n",
      "Agent #17, Wealth:1,Location:17\n",
      "Agent #1, Wealth:1,Location:24\n",
      "Agent #12, Wealth:1,Location:12\n",
      "Agent #13, Wealth:1,Location:13\n",
      "Agent #4, Wealth:1,Location:24\n",
      "Agent #10, Wealth:1,Location:10\n",
      "Agent #22, Wealth:1,Location:24\n",
      "Agent #23, Wealth:1,Location:23\n",
      "Agent #20, Wealth:1,Location:24\n",
      "Agent #11, Wealth:1,Location:11\n",
      "Agent #21, Wealth:1,Location:24\n",
      "Agent #2, Wealth:1,Location:2\n",
      "Agent #17, Wealth:1,Location:17\n",
      "Agent #5, Wealth:1,Location:5\n",
      "Agent #0, Wealth:1,Location:0\n",
      "Agent #15, Wealth:1,Location:24\n",
      "Agent #3, Wealth:1,Location:3\n",
      "Agent #8, Wealth:1,Location:8\n",
      "Agent #16, Wealth:1,Location:16\n",
      "Agent #9, Wealth:1,Location:24\n",
      "Agent #6, Wealth:1,Location:24\n",
      "Agent #14, Wealth:1,Location:24\n",
      "Agent #18, Wealth:1,Location:24\n",
      "Agent #7, Wealth:1,Location:7\n",
      "Agent #19, Wealth:1,Location:19\n",
      "Agent #20, Wealth:1,Location:24\n",
      "Agent #8, Wealth:1,Location:24\n",
      "Agent #15, Wealth:1,Location:24\n",
      "Agent #0, Wealth:1,Location:0\n",
      "Agent #4, Wealth:1,Location:24\n",
      "Agent #12, Wealth:1,Location:12\n",
      "Agent #3, Wealth:1,Location:3\n",
      "Agent #23, Wealth:1,Location:23\n",
      "Agent #16, Wealth:1,Location:16\n",
      "Agent #7, Wealth:1,Location:7\n",
      "Agent #21, Wealth:1,Location:24\n",
      "Agent #10, Wealth:1,Location:10\n",
      "Agent #1, Wealth:1,Location:1\n",
      "Agent #14, Wealth:1,Location:24\n",
      "Agent #22, Wealth:1,Location:24\n",
      "Agent #9, Wealth:1,Location:24\n",
      "Agent #11, Wealth:1,Location:11\n",
      "Agent #18, Wealth:1,Location:24\n",
      "Agent #6, Wealth:1,Location:24\n",
      "Agent #19, Wealth:1,Location:24\n",
      "Agent #17, Wealth:1,Location:24\n",
      "Agent #5, Wealth:1,Location:5\n",
      "Agent #13, Wealth:1,Location:13\n",
      "Agent #2, Wealth:1,Location:2\n",
      "Agent #8, Wealth:1,Location:24\n",
      "Agent #4, Wealth:1,Location:24\n",
      "Agent #0, Wealth:1,Location:0\n",
      "Agent #20, Wealth:1,Location:24\n",
      "Agent #9, Wealth:1,Location:9\n",
      "Agent #5, Wealth:1,Location:5\n",
      "Agent #10, Wealth:1,Location:10\n",
      "Agent #2, Wealth:1,Location:2\n",
      "Agent #14, Wealth:1,Location:24\n",
      "Agent #11, Wealth:1,Location:24\n",
      "Agent #16, Wealth:1,Location:24\n",
      "Agent #21, Wealth:1,Location:24\n",
      "Agent #1, Wealth:1,Location:1\n",
      "Agent #13, Wealth:1,Location:13\n",
      "Agent #23, Wealth:1,Location:24\n",
      "Agent #18, Wealth:1,Location:24\n",
      "Agent #17, Wealth:1,Location:24\n",
      "Agent #3, Wealth:1,Location:3\n",
      "Agent #6, Wealth:1,Location:24\n",
      "Agent #7, Wealth:1,Location:24\n",
      "Agent #19, Wealth:1,Location:24\n",
      "Agent #22, Wealth:1,Location:22\n",
      "Agent #12, Wealth:1,Location:12\n",
      "Agent #15, Wealth:1,Location:24\n",
      "Agent #21, Wealth:1,Location:24\n",
      "Agent #5, Wealth:1,Location:24\n",
      "Agent #19, Wealth:1,Location:24\n",
      "Agent #2, Wealth:1,Location:2\n",
      "Agent #10, Wealth:1,Location:10\n",
      "Agent #20, Wealth:1,Location:20\n",
      "Agent #22, Wealth:1,Location:24\n",
      "Agent #17, Wealth:1,Location:24\n",
      "Agent #1, Wealth:1,Location:1\n",
      "Agent #4, Wealth:1,Location:24\n",
      "Agent #9, Wealth:1,Location:9\n",
      "Agent #8, Wealth:1,Location:24\n",
      "Agent #6, Wealth:1,Location:24\n",
      "Agent #14, Wealth:1,Location:24\n",
      "Agent #23, Wealth:1,Location:24\n",
      "Agent #3, Wealth:1,Location:3\n",
      "Agent #11, Wealth:1,Location:24\n",
      "Agent #12, Wealth:1,Location:12\n",
      "Agent #0, Wealth:1,Location:24\n",
      "Agent #13, Wealth:1,Location:13\n",
      "Agent #18, Wealth:1,Location:24\n",
      "Agent #15, Wealth:1,Location:24\n",
      "Agent #7, Wealth:1,Location:24\n",
      "Agent #16, Wealth:1,Location:24\n"
     ]
    }
   ],
   "source": [
    "model = MoneyModel(len(centroid))\n",
    "for i in range(10):\n",
    "    model.step()"
   ]
  },
  {
   "attachments": {},
   "cell_type": "markdown",
   "metadata": {},
   "source": [
    "## history of agents positions can be queried from the datacollector module, as follows."
   ]
  },
  {
   "cell_type": "code",
   "execution_count": 48,
   "metadata": {},
   "outputs": [
    {
     "data": {
      "text/html": [
       "<div>\n",
       "<style scoped>\n",
       "    .dataframe tbody tr th:only-of-type {\n",
       "        vertical-align: middle;\n",
       "    }\n",
       "\n",
       "    .dataframe tbody tr th {\n",
       "        vertical-align: top;\n",
       "    }\n",
       "\n",
       "    .dataframe thead th {\n",
       "        text-align: right;\n",
       "    }\n",
       "</style>\n",
       "<table border=\"1\" class=\"dataframe\">\n",
       "  <thead>\n",
       "    <tr style=\"text-align: right;\">\n",
       "      <th></th>\n",
       "      <th></th>\n",
       "      <th>pos</th>\n",
       "    </tr>\n",
       "    <tr>\n",
       "      <th>Step</th>\n",
       "      <th>AgentID</th>\n",
       "      <th></th>\n",
       "    </tr>\n",
       "  </thead>\n",
       "  <tbody>\n",
       "    <tr>\n",
       "      <th rowspan=\"5\" valign=\"top\">0</th>\n",
       "      <th>0</th>\n",
       "      <td>0</td>\n",
       "    </tr>\n",
       "    <tr>\n",
       "      <th>1</th>\n",
       "      <td>1</td>\n",
       "    </tr>\n",
       "    <tr>\n",
       "      <th>2</th>\n",
       "      <td>2</td>\n",
       "    </tr>\n",
       "    <tr>\n",
       "      <th>3</th>\n",
       "      <td>3</td>\n",
       "    </tr>\n",
       "    <tr>\n",
       "      <th>4</th>\n",
       "      <td>4</td>\n",
       "    </tr>\n",
       "    <tr>\n",
       "      <th>...</th>\n",
       "      <th>...</th>\n",
       "      <td>...</td>\n",
       "    </tr>\n",
       "    <tr>\n",
       "      <th rowspan=\"5\" valign=\"top\">9</th>\n",
       "      <th>19</th>\n",
       "      <td>24</td>\n",
       "    </tr>\n",
       "    <tr>\n",
       "      <th>20</th>\n",
       "      <td>24</td>\n",
       "    </tr>\n",
       "    <tr>\n",
       "      <th>21</th>\n",
       "      <td>24</td>\n",
       "    </tr>\n",
       "    <tr>\n",
       "      <th>22</th>\n",
       "      <td>22</td>\n",
       "    </tr>\n",
       "    <tr>\n",
       "      <th>23</th>\n",
       "      <td>24</td>\n",
       "    </tr>\n",
       "  </tbody>\n",
       "</table>\n",
       "<p>240 rows × 1 columns</p>\n",
       "</div>"
      ],
      "text/plain": [
       "              pos\n",
       "Step AgentID     \n",
       "0    0          0\n",
       "     1          1\n",
       "     2          2\n",
       "     3          3\n",
       "     4          4\n",
       "...           ...\n",
       "9    19        24\n",
       "     20        24\n",
       "     21        24\n",
       "     22        22\n",
       "     23        24\n",
       "\n",
       "[240 rows x 1 columns]"
      ]
     },
     "execution_count": 48,
     "metadata": {},
     "output_type": "execute_result"
    }
   ],
   "source": [
    "agent_pos = model.datacollector.get_agent_vars_dataframe()\n",
    "agent_pos"
   ]
  },
  {
   "attachments": {},
   "cell_type": "markdown",
   "metadata": {},
   "source": [
    "## history of agents positions can be plotted as follows."
   ]
  },
  {
   "cell_type": "code",
   "execution_count": 49,
   "metadata": {},
   "outputs": [
    {
     "data": {
      "text/plain": [
       "<AxesSubplot: xlabel='Step'>"
      ]
     },
     "execution_count": 49,
     "metadata": {},
     "output_type": "execute_result"
    },
    {
     "data": {
      "image/png": "[encoded data removed]",
      "text/plain": [
       "<Figure size 640x480 with 1 Axes>"
      ]
     },
     "metadata": {},
     "output_type": "display_data"
    }
   ],
   "source": [
    "Agent_ID=1\n",
    "one_agent_wealth = agent_pos .xs(Agent_ID, level=\"AgentID\")\n",
    "one_agent_wealth.pos.plot()\n",
    "\n",
    "Agent_ID=10\n",
    "one_agent_wealth = agent_pos .xs(Agent_ID, level=\"AgentID\")\n",
    "one_agent_wealth.pos.plot()\n",
    "\n",
    "Agent_ID=20\n",
    "one_agent_wealth = agent_pos .xs(Agent_ID, level=\"AgentID\")\n",
    "one_agent_wealth.pos.plot()"
   ]
  },
  {
   "cell_type": "code",
   "execution_count": null,
   "metadata": {},
   "outputs": [],
   "source": []
  }
 ],
 "metadata": {
  "kernelspec": {
   "display_name": "Python 3",
   "language": "python",
   "name": "python3"
  },
  "language_info": {
   "codemirror_mode": {
    "name": "ipython",
    "version": 3
   },
   "file_extension": ".py",
   "mimetype": "text/x-python",
   "name": "python",
   "nbconvert_exporter": "python",
   "pygments_lexer": "ipython3",
   "version": "3.10.9"
  },
  "orig_nbformat": 4,
  "vscode": {
   "interpreter": {
    "hash": "e541ee6d54486746d3aae7e9be0b0ae413201b1ee011b910a9178edb5d78ede1"
   }
  }
 },
 "nbformat": 4,
 "nbformat_minor": 2
}
