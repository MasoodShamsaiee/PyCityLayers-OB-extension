{
 "cells": [
  {
   "cell_type": "code",
   "execution_count": 2,
   "metadata": {},
   "outputs": [],
   "source": [
    "import geopandas as gpd\n",
    "import utilities\n"
   ]
  },
  {
   "cell_type": "code",
   "execution_count": 3,
   "metadata": {},
   "outputs": [],
   "source": [
    "df = gpd.read_file(r'C:\\Users\\msham\\OneDrive\\Documents\\GitHub\\PyCL-OB\\VMTrial_cleaned.geojson',nrows=100)"
   ]
  },
  {
   "cell_type": "code",
   "execution_count": 4,
   "metadata": {},
   "outputs": [
    {
     "data": {
      "text/html": [
       "<div>\n",
       "<style scoped>\n",
       "    .dataframe tbody tr th:only-of-type {\n",
       "        vertical-align: middle;\n",
       "    }\n",
       "\n",
       "    .dataframe tbody tr th {\n",
       "        vertical-align: top;\n",
       "    }\n",
       "\n",
       "    .dataframe thead th {\n",
       "        text-align: right;\n",
       "    }\n",
       "</style>\n",
       "<table border=\"1\" class=\"dataframe\">\n",
       "  <thead>\n",
       "    <tr style=\"text-align: right;\">\n",
       "      <th></th>\n",
       "      <th>FID</th>\n",
       "      <th>ID_UEV</th>\n",
       "      <th>CIVIQUE_DE</th>\n",
       "      <th>CIVIQUE_FI</th>\n",
       "      <th>NOM_RUE</th>\n",
       "      <th>SUITE_DEBU</th>\n",
       "      <th>MUNICIPALI</th>\n",
       "      <th>ETAGE_HORS</th>\n",
       "      <th>NOMBRE_LOG</th>\n",
       "      <th>ANNEE_CONS</th>\n",
       "      <th>...</th>\n",
       "      <th>g_geometry</th>\n",
       "      <th>g_geomet_1</th>\n",
       "      <th>g_dat_acqu</th>\n",
       "      <th>g_dat_char</th>\n",
       "      <th>Shape_Le_2</th>\n",
       "      <th>Shape_Area</th>\n",
       "      <th>Shape_Le_3</th>\n",
       "      <th>Shape_Ar_2</th>\n",
       "      <th>building_height</th>\n",
       "      <th>geometry</th>\n",
       "    </tr>\n",
       "  </thead>\n",
       "  <tbody>\n",
       "    <tr>\n",
       "      <th>0</th>\n",
       "      <td>0</td>\n",
       "      <td>01040584</td>\n",
       "      <td>1020</td>\n",
       "      <td>1022</td>\n",
       "      <td>rue Sherbrooke Est  (MTE+MTL)</td>\n",
       "      <td></td>\n",
       "      <td>50</td>\n",
       "      <td>2</td>\n",
       "      <td>2</td>\n",
       "      <td>1900</td>\n",
       "      <td>...</td>\n",
       "      <td>0.00117041</td>\n",
       "      <td>6.454e-008</td>\n",
       "      <td>2020-02-12</td>\n",
       "      <td>2020-02-17</td>\n",
       "      <td>0.000913</td>\n",
       "      <td>1.661970e-08</td>\n",
       "      <td>0.000913</td>\n",
       "      <td>1.661970e-08</td>\n",
       "      <td>8.125</td>\n",
       "      <td>POLYGON ((-73.56520 45.52094, -73.56540 45.521...</td>\n",
       "    </tr>\n",
       "    <tr>\n",
       "      <th>1</th>\n",
       "      <td>1</td>\n",
       "      <td>01040586</td>\n",
       "      <td>1100</td>\n",
       "      <td>1100</td>\n",
       "      <td>rue Sherbrooke Est  (MTE+MTL)</td>\n",
       "      <td></td>\n",
       "      <td>50</td>\n",
       "      <td>11</td>\n",
       "      <td>90</td>\n",
       "      <td>1978</td>\n",
       "      <td>...</td>\n",
       "      <td>0.00249628</td>\n",
       "      <td>3.36349e-007</td>\n",
       "      <td>2020-02-12</td>\n",
       "      <td>2020-02-17</td>\n",
       "      <td>0.001138</td>\n",
       "      <td>7.225028e-08</td>\n",
       "      <td>0.001138</td>\n",
       "      <td>7.225028e-08</td>\n",
       "      <td>18.600</td>\n",
       "      <td>POLYGON ((-73.56492 45.52157, -73.56506 45.521...</td>\n",
       "    </tr>\n",
       "    <tr>\n",
       "      <th>2</th>\n",
       "      <td>2</td>\n",
       "      <td>01040588</td>\n",
       "      <td>1180</td>\n",
       "      <td>1180</td>\n",
       "      <td>rue Sherbrooke Est  (MTE+MTL)</td>\n",
       "      <td></td>\n",
       "      <td>50</td>\n",
       "      <td>3</td>\n",
       "      <td>12</td>\n",
       "      <td>1940</td>\n",
       "      <td>...</td>\n",
       "      <td>0.00154052</td>\n",
       "      <td>1.16092e-007</td>\n",
       "      <td>2020-02-12</td>\n",
       "      <td>2020-02-17</td>\n",
       "      <td>0.000693</td>\n",
       "      <td>2.429524e-08</td>\n",
       "      <td>0.000693</td>\n",
       "      <td>2.429524e-08</td>\n",
       "      <td>22.555</td>\n",
       "      <td>POLYGON ((-73.56512 45.52218, -73.56512 45.522...</td>\n",
       "    </tr>\n",
       "    <tr>\n",
       "      <th>3</th>\n",
       "      <td>3</td>\n",
       "      <td>01002914</td>\n",
       "      <td>1773</td>\n",
       "      <td>1781</td>\n",
       "      <td>rue Saint-Denis  (MTL)</td>\n",
       "      <td></td>\n",
       "      <td>50</td>\n",
       "      <td>3</td>\n",
       "      <td>7</td>\n",
       "      <td>1875</td>\n",
       "      <td>...</td>\n",
       "      <td>0.00129417</td>\n",
       "      <td>9.81845e-008</td>\n",
       "      <td>2020-02-12</td>\n",
       "      <td>2020-02-17</td>\n",
       "      <td>0.001334</td>\n",
       "      <td>7.097041e-08</td>\n",
       "      <td>0.001334</td>\n",
       "      <td>7.097041e-08</td>\n",
       "      <td>8.850</td>\n",
       "      <td>POLYGON ((-73.56480 45.51604, -73.56490 45.516...</td>\n",
       "    </tr>\n",
       "    <tr>\n",
       "      <th>4</th>\n",
       "      <td>4</td>\n",
       "      <td>01000566</td>\n",
       "      <td>2090</td>\n",
       "      <td>2092</td>\n",
       "      <td>rue Jeanne-Mance  (MTL)</td>\n",
       "      <td></td>\n",
       "      <td>50</td>\n",
       "      <td>3</td>\n",
       "      <td>4</td>\n",
       "      <td>1900</td>\n",
       "      <td>...</td>\n",
       "      <td>0.0010433</td>\n",
       "      <td>3.68935e-008</td>\n",
       "      <td>2020-02-12</td>\n",
       "      <td>2020-02-17</td>\n",
       "      <td>0.000430</td>\n",
       "      <td>1.068568e-08</td>\n",
       "      <td>0.000430</td>\n",
       "      <td>1.068568e-08</td>\n",
       "      <td>8.085</td>\n",
       "      <td>POLYGON ((-73.57010 45.50889, -73.57018 45.508...</td>\n",
       "    </tr>\n",
       "  </tbody>\n",
       "</table>\n",
       "<p>5 rows × 73 columns</p>\n",
       "</div>"
      ],
      "text/plain": [
       "   FID    ID_UEV CIVIQUE_DE CIVIQUE_FI                        NOM_RUE  \\\n",
       "0    0  01040584       1020       1022  rue Sherbrooke Est  (MTE+MTL)   \n",
       "1    1  01040586       1100       1100  rue Sherbrooke Est  (MTE+MTL)   \n",
       "2    2  01040588       1180       1180  rue Sherbrooke Est  (MTE+MTL)   \n",
       "3    3  01002914       1773       1781         rue Saint-Denis  (MTL)   \n",
       "4    4  01000566       2090       2092        rue Jeanne-Mance  (MTL)   \n",
       "\n",
       "  SUITE_DEBU MUNICIPALI  ETAGE_HORS  NOMBRE_LOG  ANNEE_CONS  ...  g_geometry  \\\n",
       "0                    50           2           2        1900  ...  0.00117041   \n",
       "1                    50          11          90        1978  ...  0.00249628   \n",
       "2                    50           3          12        1940  ...  0.00154052   \n",
       "3                    50           3           7        1875  ...  0.00129417   \n",
       "4                    50           3           4        1900  ...   0.0010433   \n",
       "\n",
       "     g_geomet_1 g_dat_acqu g_dat_char Shape_Le_2    Shape_Area  Shape_Le_3  \\\n",
       "0    6.454e-008 2020-02-12 2020-02-17   0.000913  1.661970e-08    0.000913   \n",
       "1  3.36349e-007 2020-02-12 2020-02-17   0.001138  7.225028e-08    0.001138   \n",
       "2  1.16092e-007 2020-02-12 2020-02-17   0.000693  2.429524e-08    0.000693   \n",
       "3  9.81845e-008 2020-02-12 2020-02-17   0.001334  7.097041e-08    0.001334   \n",
       "4  3.68935e-008 2020-02-12 2020-02-17   0.000430  1.068568e-08    0.000430   \n",
       "\n",
       "     Shape_Ar_2 building_height  \\\n",
       "0  1.661970e-08           8.125   \n",
       "1  7.225028e-08          18.600   \n",
       "2  2.429524e-08          22.555   \n",
       "3  7.097041e-08           8.850   \n",
       "4  1.068568e-08           8.085   \n",
       "\n",
       "                                            geometry  \n",
       "0  POLYGON ((-73.56520 45.52094, -73.56540 45.521...  \n",
       "1  POLYGON ((-73.56492 45.52157, -73.56506 45.521...  \n",
       "2  POLYGON ((-73.56512 45.52218, -73.56512 45.522...  \n",
       "3  POLYGON ((-73.56480 45.51604, -73.56490 45.516...  \n",
       "4  POLYGON ((-73.57010 45.50889, -73.57018 45.508...  \n",
       "\n",
       "[5 rows x 73 columns]"
      ]
     },
     "execution_count": 4,
     "metadata": {},
     "output_type": "execute_result"
    }
   ],
   "source": [
    "df.head()"
   ]
  },
  {
   "cell_type": "code",
   "execution_count": 8,
   "metadata": {},
   "outputs": [
    {
     "data": {
      "text/plain": [
       "Index(['FID', 'ID_UEV', 'CIVIQUE_DE', 'CIVIQUE_FI', 'NOM_RUE', 'SUITE_DEBU',\n",
       "       'MUNICIPALI', 'ETAGE_HORS', 'NOMBRE_LOG', 'ANNEE_CONS', 'CODE_UTILI',\n",
       "       'LETTRE_DEB', 'LETTRE_FIN', 'LIBELLE_UT', 'CATEGORIE_', 'MATRICULE8',\n",
       "       'SUPERFICIE', 'SUPERFIC_1', 'NO_ARROND_', 'Shape_Leng', 'OBJECTID',\n",
       "       'Join_Count', 'TARGET_FID', 'feature_id', 'md_id', 'acqtech',\n",
       "       'acqtech_en', 'acqtech_fr', 'provider', 'provideren', 'providerfr',\n",
       "       'datemin', 'datemax', 'haccmin', 'haccmax', 'vaccmin', 'vaccmax',\n",
       "       'heightmin', 'heightmax', 'elevmin', 'elevmax', 'bldgarea', 'comment',\n",
       "       'OBJECTID_2', 'Shape_Le_1', 'Shape_Ar_1', 'OBJECTID_3', 'Join_Cou_1',\n",
       "       'TARGET_F_1', 'g_objectid', 'g_co_mrc', 'g_code_mun', 'g_arrond',\n",
       "       'g_anrole', 'g_usag_pre', 'g_no_lot', 'g_nb_poly_', 'g_utilisat',\n",
       "       'g_nb_logem', 'g_nb_locau', 'g_descript', 'g_id_provi', 'g_sup_tota',\n",
       "       'g_geometry', 'g_geomet_1', 'g_dat_acqu', 'g_dat_char', 'Shape_Le_2',\n",
       "       'Shape_Area', 'Shape_Le_3', 'Shape_Ar_2', 'building_height',\n",
       "       'geometry'],\n",
       "      dtype='object')"
      ]
     },
     "execution_count": 8,
     "metadata": {},
     "output_type": "execute_result"
    }
   ],
   "source": [
    "df.columns"
   ]
  },
  {
   "cell_type": "code",
   "execution_count": 5,
   "metadata": {},
   "outputs": [
    {
     "data": {
      "text/plain": [
       "geopandas.geodataframe.GeoDataFrame"
      ]
     },
     "execution_count": 5,
     "metadata": {},
     "output_type": "execute_result"
    }
   ],
   "source": [
    "type(df)"
   ]
  },
  {
   "cell_type": "code",
   "execution_count": 6,
   "metadata": {},
   "outputs": [
    {
     "name": "stdout",
     "output_type": "stream",
     "text": [
      "YES\n"
     ]
    }
   ],
   "source": [
    "if type(df)==gpd.geodataframe.GeoDataFrame:\n",
    "    print(\"YES\")"
   ]
  },
  {
   "cell_type": "code",
   "execution_count": 7,
   "metadata": {},
   "outputs": [
    {
     "ename": "UnboundLocalError",
     "evalue": "local variable 'dataset' referenced before assignment",
     "output_type": "error",
     "traceback": [
      "\u001b[1;31m---------------------------------------------------------------------------\u001b[0m",
      "\u001b[1;31mUnboundLocalError\u001b[0m                         Traceback (most recent call last)",
      "Cell \u001b[1;32mIn[7], line 1\u001b[0m\n\u001b[1;32m----> 1\u001b[0m utilities\u001b[39m.\u001b[39;49mplot_it(df)\n",
      "File \u001b[1;32mc:\\Users\\msham\\OneDrive\\Documents\\GitHub\\PyCL-OB\\utilities.py:96\u001b[0m, in \u001b[0;36mplot_it\u001b[1;34m(buildings_list, column, legend, basemap, multipolygon, alpha)\u001b[0m\n\u001b[0;32m     95\u001b[0m \u001b[39mdef\u001b[39;00m \u001b[39mplot_it\u001b[39m(buildings_list,column\u001b[39m=\u001b[39m\u001b[39mNone\u001b[39;00m,legend\u001b[39m=\u001b[39m\u001b[39mFalse\u001b[39;00m,basemap\u001b[39m=\u001b[39m\u001b[39mTrue\u001b[39;00m,multipolygon\u001b[39m=\u001b[39m\u001b[39mFalse\u001b[39;00m,alpha\u001b[39m=\u001b[39m\u001b[39m1\u001b[39m):\n\u001b[1;32m---> 96\u001b[0m     \u001b[39mif\u001b[39;00m \u001b[39mtype\u001b[39m(dataset)\u001b[39m!=\u001b[39mgpd\u001b[39m.\u001b[39mgeodataframe\u001b[39m.\u001b[39mGeoDataFrame:\n\u001b[0;32m     97\u001b[0m         dataset\u001b[39m=\u001b[39mgpd\u001b[39m.\u001b[39mGeoDataFrame(buildings_list)\n\u001b[0;32m     98\u001b[0m         dataset\u001b[39m=\u001b[39mdataset\u001b[39m.\u001b[39mset_geometry(geometry_generator(buildings_list,multipolygon\u001b[39m=\u001b[39mmultipolygon))\n",
      "\u001b[1;31mUnboundLocalError\u001b[0m: local variable 'dataset' referenced before assignment"
     ]
    }
   ],
   "source": [
    "utilities.plot_it(df)"
   ]
  }
 ],
 "metadata": {
  "kernelspec": {
   "display_name": "Python 3",
   "language": "python",
   "name": "python3"
  },
  "language_info": {
   "codemirror_mode": {
    "name": "ipython",
    "version": 3
   },
   "file_extension": ".py",
   "mimetype": "text/x-python",
   "name": "python",
   "nbconvert_exporter": "python",
   "pygments_lexer": "ipython3",
   "version": "3.10.11"
  },
  "orig_nbformat": 4
 },
 "nbformat": 4,
 "nbformat_minor": 2
}
