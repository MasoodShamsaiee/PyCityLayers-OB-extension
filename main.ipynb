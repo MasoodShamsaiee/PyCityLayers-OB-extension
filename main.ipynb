{
 "cells": [
  {
   "cell_type": "code",
   "execution_count": 13,
   "metadata": {},
   "outputs": [
    {
     "name": "stdout",
     "output_type": "stream",
     "text": [
      "Fetching Metadata. Please Wait ...\n"
     ]
    },
    {
     "ename": "TypeError",
     "evalue": "'module' object is not callable",
     "output_type": "error",
     "traceback": [
      "\u001b[1;31m---------------------------------------------------------------------------\u001b[0m",
      "\u001b[1;31mTypeError\u001b[0m                                 Traceback (most recent call last)",
      "Cell \u001b[1;32mIn[13], line 17\u001b[0m\n\u001b[0;32m     10\u001b[0m query_options \u001b[39m=\u001b[39m {\n\u001b[0;32m     11\u001b[0m     \u001b[39m'\u001b[39m\u001b[39mcolumns\u001b[39m\u001b[39m'\u001b[39m: [\u001b[39m'\u001b[39m\u001b[39mcode\u001b[39m\u001b[39m'\u001b[39m, \u001b[39m'\u001b[39m\u001b[39mname\u001b[39m\u001b[39m'\u001b[39m, \u001b[39m'\u001b[39m\u001b[39myear\u001b[39m\u001b[39m'\u001b[39m], \n\u001b[0;32m     12\u001b[0m     \u001b[39m'\u001b[39m\u001b[39mnrows\u001b[39m\u001b[39m'\u001b[39m: \u001b[39m5\u001b[39m, \n\u001b[0;32m     13\u001b[0m     \u001b[39m'\u001b[39m\u001b[39mskiprows\u001b[39m\u001b[39m'\u001b[39m: \u001b[39m3\u001b[39m,\n\u001b[0;32m     14\u001b[0m }\n\u001b[0;32m     16\u001b[0m data \u001b[39m=\u001b[39m table\u001b[39m.\u001b[39mquery_simple( \u001b[39m*\u001b[39m\u001b[39m*\u001b[39mquery_options )\n\u001b[1;32m---> 17\u001b[0m pprint(data)\n",
      "\u001b[1;31mTypeError\u001b[0m: 'module' object is not callable"
     ]
    }
   ],
   "source": [
    "import pprint\n",
    "from pycitylayers.client import Client\n",
    "from pycitylayers.utils import PointGQL, PolygonGQL\n",
    "\n",
    "client = Client().create(source='cerc')\n",
    "coll = client.collection\n",
    "dataset = coll[2]\n",
    "table = dataset[0]\n",
    "\n",
    "query_options = {\n",
    "    # 'columns': ['code', 'name', 'year'], \n",
    "    'nrows': 5, \n",
    "    'skiprows': 3,\n",
    "}\n",
    "\n",
    "data = table.query_simple( **query_options )\n",
    "print(data)\n"
   ]
  },
  {
   "cell_type": "code",
   "execution_count": 30,
   "metadata": {},
   "outputs": [
    {
     "name": "stdout",
     "output_type": "stream",
     "text": [
      "Fetching Metadata. Please Wait ...\n"
     ]
    },
    {
     "data": {
      "text/plain": [
       "{'data': {'__schema': {'queryType': {'fields': [{'name': 'agents'},\n",
       "     {'name': 'agents_aggregate'},\n",
       "     {'name': 'agents_by_pk'},\n",
       "     {'name': 'bixi_stations'},\n",
       "     {'name': 'bixi_stations_aggregate'},\n",
       "     {'name': 'bixi_trips'},\n",
       "     {'name': 'bixi_trips_aggregate'},\n",
       "     {'name': 'building_footprint_ms'},\n",
       "     {'name': 'building_footprint_ms_aggregate'},\n",
       "     {'name': 'building_footprint_mtl'},\n",
       "     {'name': 'building_lots'},\n",
       "     {'name': 'building_lots_aggregate'},\n",
       "     {'name': 'census_divisions'},\n",
       "     {'name': 'census_divisions_aggregate'},\n",
       "     {'name': 'census_subdivisions'},\n",
       "     {'name': 'census_subdivisions_aggregate'},\n",
       "     {'name': 'census_tracts'},\n",
       "     {'name': 'census_tracts_aggregate'},\n",
       "     {'name': 'dissemination_areas'},\n",
       "     {'name': 'dissemination_areas_aggregate'},\n",
       "     {'name': 'dissemination_blocks'},\n",
       "     {'name': 'dissemination_blocks_aggregate'},\n",
       "     {'name': 'ev_stations'},\n",
       "     {'name': 'ev_stations_aggregate'},\n",
       "     {'name': 'gas_stations'},\n",
       "     {'name': 'gas_stations_aggregate'},\n",
       "     {'name': 'power_grid'},\n",
       "     {'name': 'trees_public'}]}}}}"
      ]
     },
     "execution_count": 30,
     "metadata": {},
     "output_type": "execute_result"
    }
   ],
   "source": [
    "client = Client().create(source='cerc')\n",
    "client.collection.metadata"
   ]
  },
  {
   "cell_type": "code",
   "execution_count": 72,
   "metadata": {},
   "outputs": [],
   "source": []
  },
  {
   "cell_type": "code",
   "execution_count": 43,
   "metadata": {},
   "outputs": [
    {
     "name": "stdout",
     "output_type": "stream",
     "text": [
      "---------- Table:0 ----------\n",
      "Name:\t\tagents \n",
      "Description:\t \n",
      "Format:\t\tCSV \n",
      "\n"
     ]
    }
   ],
   "source": [
    "print(client.collection[0][0])"
   ]
  },
  {
   "cell_type": "code",
   "execution_count": 70,
   "metadata": {},
   "outputs": [
    {
     "data": {
      "text/plain": [
       "---------- Table:0 ----------\n",
       "Name:\t\tbuilding_lots \n",
       "Description:\t \n",
       "Format:\t\tCSV "
      ]
     },
     "execution_count": 70,
     "metadata": {},
     "output_type": "execute_result"
    }
   ],
   "source": [
    "client.collection[6][0]"
   ]
  },
  {
   "cell_type": "code",
   "execution_count": 86,
   "metadata": {},
   "outputs": [],
   "source": [
    "query_options = {\n",
    "    # 'columns': ['code', 'name', 'year'], \n",
    "    'nrows': 500, \n",
    "    #'skiprows': 1,\n",
    "}\n",
    "dataset=client.collection[6][0].query_simple(**query_options)"
   ]
  },
  {
   "cell_type": "code",
   "execution_count": 90,
   "metadata": {},
   "outputs": [
    {
     "name": "stderr",
     "output_type": "stream",
     "text": [
      "C:\\Users\\msham\\AppData\\Local\\Temp\\ipykernel_24484\\3349346125.py:1: UserWarning: Boolean Series key will be reindexed to match DataFrame index.\n",
      "  dataset[dataset[\"borough_id\"]==\"REM22\"][dataset[\"landuse_text\"]!=\"Logement\"][\"landuse_text\"].unique()\n"
     ]
    },
    {
     "data": {
      "text/plain": [
       "array([\"Protection contre l'incendie et activités connexes\",\n",
       "       \"Espace de terrain non aménagé et non exploité (sauf l'exploitation non commerciale de la forêt)\",\n",
       "       'Maison de chambres pour personnes ayant une déficience intellectuelle',\n",
       "       'Aréna et activités connexes (patinage sur glace)',\n",
       "       'Immeuble commercial'], dtype=object)"
      ]
     },
     "execution_count": 90,
     "metadata": {},
     "output_type": "execute_result"
    }
   ],
   "source": [
    "dataset[dataset[\"borough_id\"]==\"REM22\"][dataset[\"landuse_text\"]!=\"Logement\"][\"landuse_text\"].unique()"
   ]
  },
  {
   "cell_type": "code",
   "execution_count": 25,
   "metadata": {},
   "outputs": [
    {
     "name": "stdout",
     "output_type": "stream",
     "text": [
      "Fetching Metadata. Please Wait ...\n",
      "[---------- Dataset ----------\n",
      "Name:\t\tagents \n",
      "Tables Count:\t1 \n",
      ", ---------- Dataset ----------\n",
      "Name:\t\tagents_by_pk \n",
      "Tables Count:\t1 \n",
      ", ---------- Dataset ----------\n",
      "Name:\t\tbixi_stations \n",
      "Tables Count:\t1 \n",
      ", ---------- Dataset ----------\n",
      "Name:\t\tbixi_trips \n",
      "Tables Count:\t1 \n",
      ", ---------- Dataset ----------\n",
      "Name:\t\tbuilding_footprint_ms \n",
      "Tables Count:\t1 \n",
      ", ---------- Dataset ----------\n",
      "Name:\t\tbuilding_footprint_mtl \n",
      "Tables Count:\t1 \n",
      ", ---------- Dataset ----------\n",
      "Name:\t\tbuilding_lots \n",
      "Tables Count:\t1 \n",
      ", ---------- Dataset ----------\n",
      "Name:\t\tcensus_divisions \n",
      "Tables Count:\t1 \n",
      ", ---------- Dataset ----------\n",
      "Name:\t\tcensus_subdivisions \n",
      "Tables Count:\t1 \n",
      ", ---------- Dataset ----------\n",
      "Name:\t\tcensus_tracts \n",
      "Tables Count:\t1 \n",
      ", ---------- Dataset ----------\n",
      "Name:\t\tdissemination_areas \n",
      "Tables Count:\t1 \n",
      ", ---------- Dataset ----------\n",
      "Name:\t\tdissemination_blocks \n",
      "Tables Count:\t1 \n",
      ", ---------- Dataset ----------\n",
      "Name:\t\tev_stations \n",
      "Tables Count:\t1 \n",
      ", ---------- Dataset ----------\n",
      "Name:\t\tgas_stations \n",
      "Tables Count:\t1 \n",
      ", ---------- Dataset ----------\n",
      "Name:\t\tpower_grid \n",
      "Tables Count:\t1 \n",
      ", ---------- Dataset ----------\n",
      "Name:\t\ttrees_public \n",
      "Tables Count:\t1 \n",
      "]\n"
     ]
    }
   ],
   "source": [
    "from pprint import pprint\n",
    "from pycitylayers.client import Client\n",
    "from pycitylayers.utils import PointGQL, PolygonGQL\n",
    "\n",
    "client = Client().create(source='cerc')\n",
    "coll = client.collection\n",
    "\n",
    "datasets = coll.datasets\n",
    "\n",
    "print(datasets)\n",
    "\n"
   ]
  },
  {
   "cell_type": "code",
   "execution_count": 3,
   "metadata": {},
   "outputs": [
    {
     "data": {
      "text/plain": [
       "<pycitylayers.client.client.Client at 0x251c96d7640>"
      ]
     },
     "execution_count": 3,
     "metadata": {},
     "output_type": "execute_result"
    }
   ],
   "source": [
    "Client()."
   ]
  },
  {
   "cell_type": "code",
   "execution_count": 7,
   "metadata": {},
   "outputs": [
    {
     "name": "stdout",
     "output_type": "stream",
     "text": [
      "---------- Dataset ----------\n",
      "Name:\t\tagents \n",
      "Tables Count:\t1 \n",
      "\n",
      "---------- Dataset ----------\n",
      "Name:\t\tagents_by_pk \n",
      "Tables Count:\t1 \n",
      "\n",
      "---------- Dataset ----------\n",
      "Name:\t\tbixi_stations \n",
      "Tables Count:\t1 \n",
      "\n",
      "---------- Dataset ----------\n",
      "Name:\t\tbixi_trips \n",
      "Tables Count:\t1 \n",
      "\n",
      "---------- Dataset ----------\n",
      "Name:\t\tbuilding_footprint_ms \n",
      "Tables Count:\t1 \n",
      "\n",
      "---------- Dataset ----------\n",
      "Name:\t\tbuilding_footprint_mtl \n",
      "Tables Count:\t1 \n",
      "\n",
      "---------- Dataset ----------\n",
      "Name:\t\tbuilding_lots \n",
      "Tables Count:\t1 \n",
      "\n",
      "---------- Dataset ----------\n",
      "Name:\t\tcensus_divisions \n",
      "Tables Count:\t1 \n",
      "\n",
      "---------- Dataset ----------\n",
      "Name:\t\tcensus_subdivisions \n",
      "Tables Count:\t1 \n",
      "\n",
      "---------- Dataset ----------\n",
      "Name:\t\tcensus_tracts \n",
      "Tables Count:\t1 \n",
      "\n",
      "---------- Dataset ----------\n",
      "Name:\t\tdissemination_areas \n",
      "Tables Count:\t1 \n",
      "\n",
      "---------- Dataset ----------\n",
      "Name:\t\tdissemination_blocks \n",
      "Tables Count:\t1 \n",
      "\n",
      "---------- Dataset ----------\n",
      "Name:\t\tev_stations \n",
      "Tables Count:\t1 \n",
      "\n",
      "---------- Dataset ----------\n",
      "Name:\t\tgas_stations \n",
      "Tables Count:\t1 \n",
      "\n",
      "---------- Dataset ----------\n",
      "Name:\t\tpower_grid \n",
      "Tables Count:\t1 \n",
      "\n",
      "---------- Dataset ----------\n",
      "Name:\t\ttrees_public \n",
      "Tables Count:\t1 \n",
      "\n"
     ]
    }
   ],
   "source": [
    "for i in range(len(client.collection)):\n",
    "\n",
    "    print(client.collection[i])"
   ]
  },
  {
   "cell_type": "code",
   "execution_count": 9,
   "metadata": {},
   "outputs": [
    {
     "data": {
      "text/plain": [
       "---------- Table:0 ----------\n",
       "Name:\t\tbixi_stations \n",
       "Description:\t \n",
       "Format:\t\tCSV "
      ]
     },
     "execution_count": 9,
     "metadata": {},
     "output_type": "execute_result"
    }
   ],
   "source": [
    "client.collection[2][0]"
   ]
  },
  {
   "cell_type": "code",
   "execution_count": null,
   "metadata": {},
   "outputs": [],
   "source": []
  }
 ],
 "metadata": {
  "kernelspec": {
   "display_name": "Python 3",
   "language": "python",
   "name": "python3"
  },
  "language_info": {
   "codemirror_mode": {
    "name": "ipython",
    "version": 3
   },
   "file_extension": ".py",
   "mimetype": "text/x-python",
   "name": "python",
   "nbconvert_exporter": "python",
   "pygments_lexer": "ipython3",
   "version": "3.10.9"
  },
  "orig_nbformat": 4,
  "vscode": {
   "interpreter": {
    "hash": "e541ee6d54486746d3aae7e9be0b0ae413201b1ee011b910a9178edb5d78ede1"
   }
  }
 },
 "nbformat": 4,
 "nbformat_minor": 2
}
